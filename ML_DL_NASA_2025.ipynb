{
  "cells": [
    {
      "cell_type": "markdown",
      "metadata": {
        "id": "view-in-github",
        "colab_type": "text"
      },
      "source": [
        "<a href=\"https://colab.research.google.com/github/KpihX/rocket-durability-ai/blob/main/ML_DL_NASA_2025.ipynb\" target=\"_parent\"><img src=\"https://colab.research.google.com/assets/colab-badge.svg\" alt=\"Open In Colab\"/></a>"
      ]
    },
    {
      "cell_type": "markdown",
      "metadata": {
        "id": "RgMyA5dmwFJO"
      },
      "source": [
        "# <font color=#023F7C> **Machine Learning and Deep Learning**\n",
        "\n",
        "---\n",
        "\n",
        "\n",
        "\n",
        "<font color=#023F7C>**Hi! PARIS DataBootcamp 2024 🚀**</font> <br>\n",
        "\n",
        "\n",
        "<img src = https://www.hi-paris.fr/wp-content/uploads/2020/09/logo-hi-paris-retina.png width = \"300\" height = \"200\" >\n",
        "\n",
        "\n",
        "**Members**\n",
        "- **Name**: KAMDEM Ivann           <br>\n",
        "  **School**: Ecole polytechnique        <br>\n",
        "  **Track**: Intermediate           <br>\n",
        "- **Name**: WU Jinyang           <br>\n",
        "  **School**: Ecole Polytechnique         <br>\n",
        "  **Track**: Beginner           <br>\n",
        "- **Name**: Montandon Tanguy          <br>\n",
        "  **School**:  HEC Paris         <br>\n",
        "  **Track**: beginner           <br>\n",
        "- **Name**: Moubareckou Mohamed          <br>\n",
        "  **School**: Ecole polytechnique         <br>\n",
        "  **Track**: Beginner           <br>\n",
        "- **Name**: Picq Pierre           <br>\n",
        "  **School**: HEC Paris         <br>\n",
        "  **Track**: Beginner           <br>\n",
        "- **Name**: Blackwell-Hunt Derrick        <br>\n",
        "  **School**: HEC Paris         <br>\n",
        "  **Track**: Intermediate           <br>\n",
        "- **Name**: Civilo Yigit        <br>\n",
        "  **School**: HEC Paris         <br>\n",
        "  **Track**: Intermediate           <br>\n",
        "\n",
        "**Group number**: 30    <br>\n",
        "**Teaching Assistants**: Thibault Porssut and Farouk Kadri, Machine Learning Research Engineer @ Hi! PARIS"
      ]
    },
    {
      "cell_type": "markdown",
      "metadata": {
        "id": "epycO8NUwFJQ"
      },
      "source": [
        "# **1. Important guidelines**\n",
        "\n",
        "\n",
        "The RUL (Remaining Useful Life) refers to the remaining lifespan of an aircraft engine before failure. In the context of the NASA C-MAPSS dataset, this term represents the number of operational cycles an engine can still perform before breaking down. **The goal of this practical session** is to build a Machine Learning model that can p**redict this value using sensor data collected during previous cycles.**\n",
        "\n",
        "To achieve this goal, you are provided with three datasets: train_FD001.txt, test_FD001.txt, and RUL_FD001.txt, originating from the NASA C-MAPSS dataset. <br>\n",
        "These datasets contain sensor measurements and operational settings for multiple aircraft engines recorded over a series of operational cycles. Each engine is run until it fails, and the sensor data capture the degradation process over time. <br>\n",
        "The file RUL_FD001.txt contains the actual Remaining Useful Life (RUL) values for the engines in the test set at the point where the test data end.\n",
        "\n",
        "The variable to predict is RUL, which represents the number of operational cycles remaining before the engine fails."
      ]
    },
    {
      "cell_type": "markdown",
      "metadata": {
        "id": "yISGPg8WwFJQ"
      },
      "source": [
        "**<font size='5'><u>How to work on this notebook</u>**</font> <br>\n",
        "The notebook is split in two parts: Machine Learning and Deep Learning.\n",
        "\n",
        "- **Beginner track**: You only have to complete the Machine Learning and Deeep Learning section.\n",
        "- **Intermediate track**: Please complete Machine Learning, Deep Learning and the optional section."
      ]
    },
    {
      "cell_type": "markdown",
      "metadata": {
        "id": "SGP2HYohwFJR"
      },
      "source": [
        "**<font size='5'><u>Bootcamp deliverables</u>**</font> <br>\n",
        "\n",
        "Here are the two deadlines for the bootcamp deliverables:\n",
        "- <u>**Friday 12:30 PM**</u>: <br> Send us the \"Machine Learning and Deep Learning\" notebooks (no need to send us data cleaning) <br>\n",
        "    - **Each group member should send his own notebooks** (we won't accept one notebook per group)\n",
        "    - Don't forget to complete the start of the notebook with your information (name, school, group number and track)\n",
        "    \n",
        "- <u>**Friday 2:30PM**</u>: <br>Send us the group slides <br>\n",
        "    - You can send us a single powerpoint per group (no need to send us one per group member)\n",
        "    - Don't forget to add your group number as well as who is in your group (name, school and track) to the slides\n",
        "\n",
        "Send both the notebooks and the slides at `data-event@hi-paris.fr`"
      ]
    },
    {
      "cell_type": "markdown",
      "metadata": {
        "id": "1qfwFdDPwFJR"
      },
      "source": [
        "**<font size='5'><u>Need help ? 🙏</u>**</font> <br>\n",
        "\n",
        "We will drop later in the week to the Machine Learning course (Beginner track) on HFactory the `Machine_Learning_Beginner_DB2025.ipynb` notebook for those who need help with the Machine Learning part.\n",
        "\n",
        "**Don't hesitate to ask questions to the bootcamp organizers/staff members if you need help.**\n"
      ]
    },
    {
      "cell_type": "markdown",
      "metadata": {
        "id": "xCheKJQBwFJR"
      },
      "source": [
        "# **2. Machine Learning**\n",
        "\n",
        "Let's start by importing the libraries needed for this notebook."
      ]
    },
    {
      "cell_type": "code",
      "execution_count": 9,
      "metadata": {
        "execution": {
          "iopub.execute_input": "2025-08-20T15:12:14.519498Z",
          "iopub.status.busy": "2025-08-20T15:12:14.519203Z",
          "iopub.status.idle": "2025-08-20T15:12:14.835280Z",
          "shell.execute_reply": "2025-08-20T15:12:14.834273Z",
          "shell.execute_reply.started": "2025-08-20T15:12:14.519477Z"
        },
        "id": "ZyhKqCkh5D8S",
        "tags": [],
        "trusted": true
      },
      "outputs": [],
      "source": [
        "import pandas as pd\n",
        "import numpy as np\n",
        "import matplotlib.pyplot as plt\n",
        "import time"
      ]
    },
    {
      "cell_type": "code",
      "source": [
        "import os\n",
        "from google.colab import drive\n",
        "\n",
        "drive.mount('/content/drive/')\n",
        "os.chdir(\"/content/drive/Othercomputers/My laptop/OneDrive - Ecole Polytechnique/X/Hi_AI_2025/Project/ML_DL\")\n",
        "os.listdir()"
      ],
      "metadata": {
        "id": "WXs4lZETQVvV",
        "outputId": "91e44b0b-30e9-441b-b193-80b08c6c1090",
        "colab": {
          "base_uri": "https://localhost:8080/"
        }
      },
      "execution_count": 10,
      "outputs": [
        {
          "output_type": "stream",
          "name": "stdout",
          "text": [
            "Drive already mounted at /content/drive/; to attempt to forcibly remount, call drive.mount(\"/content/drive/\", force_remount=True).\n"
          ]
        },
        {
          "output_type": "execute_result",
          "data": {
            "text/plain": [
              "['02_df_train_FD001_wo_nan_denoised.csv',\n",
              " '02_df_test_FD001_wo_nan_denoised.csv',\n",
              " 'ML_DL_NASA_2025.ipynb',\n",
              " 'ML_DL_NASA_2025_Optimised.ipynb']"
            ]
          },
          "metadata": {},
          "execution_count": 10
        }
      ]
    },
    {
      "cell_type": "markdown",
      "metadata": {
        "id": "XcOZ9GW8wFJS"
      },
      "source": [
        "Now load the train and test datasets using `pd.read_csv()`"
      ]
    },
    {
      "cell_type": "code",
      "execution_count": 11,
      "metadata": {
        "colab": {
          "base_uri": "https://localhost:8080/"
        },
        "execution": {
          "iopub.execute_input": "2025-08-20T15:12:15.717458Z",
          "iopub.status.busy": "2025-08-20T15:12:15.717065Z",
          "iopub.status.idle": "2025-08-20T15:12:16.003839Z",
          "shell.execute_reply": "2025-08-20T15:12:16.002698Z",
          "shell.execute_reply.started": "2025-08-20T15:12:15.717437Z"
        },
        "id": "dVLd2Z_jwFJT",
        "outputId": "ea82117d-19d5-4cd1-a6b8-ac840e0dd701",
        "tags": [],
        "trusted": true
      },
      "outputs": [
        {
          "output_type": "stream",
          "name": "stdout",
          "text": [
            "Train shape: (18816, 28)\n",
            "Test shape: (12039, 28)\n"
          ]
        }
      ],
      "source": [
        "train_path =  '02_df_train_FD001_wo_nan_denoised.csv'\n",
        "test_path = '02_df_test_FD001_wo_nan_denoised.csv'\n",
        "\n",
        "# Train and test data.\n",
        "train_df = pd.read_csv(train_path)\n",
        "test_df = pd.read_csv(test_path)\n",
        "\n",
        "print(\"Train shape:\", train_df.shape)\n",
        "print(\"Test shape:\", test_df.shape)"
      ]
    },
    {
      "cell_type": "markdown",
      "metadata": {
        "id": "Hr9tR1BnwFJV"
      },
      "source": [
        "### **2.1 Data preprocessing**"
      ]
    },
    {
      "cell_type": "code",
      "execution_count": 12,
      "metadata": {
        "execution": {
          "iopub.execute_input": "2025-08-20T15:12:17.439085Z",
          "iopub.status.busy": "2025-08-20T15:12:17.438510Z",
          "iopub.status.idle": "2025-08-20T15:12:18.116837Z",
          "shell.execute_reply": "2025-08-20T15:12:18.115758Z",
          "shell.execute_reply.started": "2025-08-20T15:12:17.439061Z"
        },
        "id": "jfuHVWn9wFJV",
        "trusted": true
      },
      "outputs": [],
      "source": [
        "# Preprocessing tools\n",
        "from sklearn.model_selection import train_test_split\n",
        "from sklearn.preprocessing import OneHotEncoder, LabelEncoder\n",
        "from sklearn.preprocessing import StandardScaler, MinMaxScaler\n"
      ]
    },
    {
      "cell_type": "code",
      "execution_count": 13,
      "metadata": {
        "execution": {
          "iopub.execute_input": "2025-08-20T15:12:19.157275Z",
          "iopub.status.busy": "2025-08-20T15:12:19.156858Z",
          "iopub.status.idle": "2025-08-20T15:12:19.164076Z",
          "shell.execute_reply": "2025-08-20T15:12:19.162994Z",
          "shell.execute_reply.started": "2025-08-20T15:12:19.157252Z"
        },
        "id": "eO2HwJWVoRsb",
        "trusted": true
      },
      "outputs": [],
      "source": [
        "def replace_with_gaussian_bins(df, cols):\n",
        "    \"\"\"\n",
        "    Replace numerical columns with 7-category Gaussian bins based on mean ± n*std.\n",
        "\n",
        "    Parameters:\n",
        "    df   : DataFrame\n",
        "    cols : list of column names to transform\n",
        "\n",
        "    Returns:\n",
        "    DataFrame with the same structure but selected numeric columns replaced with categorical bins\n",
        "    \"\"\"\n",
        "    df_out = df.copy()\n",
        "\n",
        "    labels = [\n",
        "        \"Extremely Low\",\n",
        "        \"Very Low\",\n",
        "        \"Low\",\n",
        "        \"Normal\",\n",
        "        \"High\",\n",
        "        \"Very High\",\n",
        "        \"Extremely High\"\n",
        "    ]\n",
        "\n",
        "    for col in cols:\n",
        "        mu = df_out[col].mean()\n",
        "        sigma = df_out[col].std()\n",
        "\n",
        "        bins = [\n",
        "          -np.inf,\n",
        "          mu - 2*sigma,   # Extremely Low\n",
        "          mu - 1*sigma,   # Very Low\n",
        "          mu - 0.5*sigma,   # Low\n",
        "          mu + 0.5*sigma,   # High\n",
        "          mu + 1*sigma,   # Very High\n",
        "          mu + 2*sigma,   # Extremely High\n",
        "          np.inf\n",
        "      ]\n",
        "\n",
        "        df_out[col] = pd.cut(df_out[col], bins=bins, labels=labels, include_lowest=True)\n",
        "\n",
        "    return df_out"
      ]
    },
    {
      "cell_type": "code",
      "execution_count": 14,
      "metadata": {
        "colab": {
          "base_uri": "https://localhost:8080/",
          "height": 325
        },
        "execution": {
          "iopub.execute_input": "2025-08-20T15:12:20.513125Z",
          "iopub.status.busy": "2025-08-20T15:12:20.512862Z",
          "iopub.status.idle": "2025-08-20T15:12:20.579744Z",
          "shell.execute_reply": "2025-08-20T15:12:20.578554Z",
          "shell.execute_reply.started": "2025-08-20T15:12:20.513107Z"
        },
        "id": "uWH8j9OpDeYa",
        "outputId": "5684b1b0-0a66-454e-b690-d35226100fca",
        "trusted": true
      },
      "outputs": [
        {
          "output_type": "execute_result",
          "data": {
            "text/plain": [
              "   engine_unit_number  time_cycles  setting_1  setting_2  setting_3  \\\n",
              "0                   1            1    -0.0007    -0.0004      100.0   \n",
              "1                   1            2     0.0019    -0.0003      100.0   \n",
              "2                   1            3    -0.0043     0.0003      100.0   \n",
              "3                   1            4     0.0007     0.0000      100.0   \n",
              "4                   1            5    -0.0019    -0.0002      100.0   \n",
              "\n",
              "   Fan inlet temperature (°C)  LPC outlet temperature (°C)  \\\n",
              "0                        15.0                    83.416667   \n",
              "1                        15.0                    83.600000   \n",
              "2                        15.0                    83.711111   \n",
              "3                        15.0                    83.711111   \n",
              "4                        15.0                    83.722222   \n",
              "\n",
              "  HPC outlet temperature (°C)  LPT outlet temperature (°C)  \\\n",
              "0                      Normal                   504.961111   \n",
              "1                      Normal                   506.372222   \n",
              "2                      Normal                   506.961111   \n",
              "3                    Very Low                   505.666667   \n",
              "4                      Normal                   508.083333   \n",
              "\n",
              "   Fan inlet pressure (bar)  ...  Corrected core speed (rpm)  \\\n",
              "0                  1.008014  ...                     8138.62   \n",
              "1                  1.008014  ...                     8131.49   \n",
              "2                  1.008014  ...                     8133.23   \n",
              "3                  1.008014  ...                     8133.83   \n",
              "4                  1.008014  ...                     8133.80   \n",
              "\n",
              "   Bypass ratio (dimensionless)  \\\n",
              "0                        8.4195   \n",
              "1                        8.4318   \n",
              "2                        8.4178   \n",
              "3                        8.3682   \n",
              "4                        8.4294   \n",
              "\n",
              "   Burner fuel-air ratio (mass ratio, dimensionless)  Bleed enthalpy (kJ/kg)  \\\n",
              "0                                               0.03                   392.0   \n",
              "1                                               0.03                   392.0   \n",
              "2                                               0.03                   390.0   \n",
              "3                                               0.03                   392.0   \n",
              "4                                               0.03                   393.0   \n",
              "\n",
              "   Demanded fan speed (rpm)  Demanded corrected fan speed (rpm)  \\\n",
              "0                      2388                               100.0   \n",
              "1                      2388                               100.0   \n",
              "2                      2388                               100.0   \n",
              "3                      2388                               100.0   \n",
              "4                      2388                               100.0   \n",
              "\n",
              "   HPT coolant bleed flow (kg/s)  LPT coolant bleed flow (kg/s)  RUL  \\\n",
              "0                      17.717318                      10.622680  191   \n",
              "1                      17.690102                      10.624766  190   \n",
              "2                      17.667423                      10.588751  189   \n",
              "3                      17.635671                      10.602223  188   \n",
              "4                      17.644743                      10.616057  187   \n",
              "\n",
              "   RUL_class  \n",
              "0          0  \n",
              "1          0  \n",
              "2          0  \n",
              "3          0  \n",
              "4          0  \n",
              "\n",
              "[5 rows x 28 columns]"
            ],
            "text/html": [
              "\n",
              "  <div id=\"df-936c7c14-bb01-480d-94c5-51a64c9ff63e\" class=\"colab-df-container\">\n",
              "    <div>\n",
              "<style scoped>\n",
              "    .dataframe tbody tr th:only-of-type {\n",
              "        vertical-align: middle;\n",
              "    }\n",
              "\n",
              "    .dataframe tbody tr th {\n",
              "        vertical-align: top;\n",
              "    }\n",
              "\n",
              "    .dataframe thead th {\n",
              "        text-align: right;\n",
              "    }\n",
              "</style>\n",
              "<table border=\"1\" class=\"dataframe\">\n",
              "  <thead>\n",
              "    <tr style=\"text-align: right;\">\n",
              "      <th></th>\n",
              "      <th>engine_unit_number</th>\n",
              "      <th>time_cycles</th>\n",
              "      <th>setting_1</th>\n",
              "      <th>setting_2</th>\n",
              "      <th>setting_3</th>\n",
              "      <th>Fan inlet temperature (°C)</th>\n",
              "      <th>LPC outlet temperature (°C)</th>\n",
              "      <th>HPC outlet temperature (°C)</th>\n",
              "      <th>LPT outlet temperature (°C)</th>\n",
              "      <th>Fan inlet pressure (bar)</th>\n",
              "      <th>...</th>\n",
              "      <th>Corrected core speed (rpm)</th>\n",
              "      <th>Bypass ratio (dimensionless)</th>\n",
              "      <th>Burner fuel-air ratio (mass ratio, dimensionless)</th>\n",
              "      <th>Bleed enthalpy (kJ/kg)</th>\n",
              "      <th>Demanded fan speed (rpm)</th>\n",
              "      <th>Demanded corrected fan speed (rpm)</th>\n",
              "      <th>HPT coolant bleed flow (kg/s)</th>\n",
              "      <th>LPT coolant bleed flow (kg/s)</th>\n",
              "      <th>RUL</th>\n",
              "      <th>RUL_class</th>\n",
              "    </tr>\n",
              "  </thead>\n",
              "  <tbody>\n",
              "    <tr>\n",
              "      <th>0</th>\n",
              "      <td>1</td>\n",
              "      <td>1</td>\n",
              "      <td>-0.0007</td>\n",
              "      <td>-0.0004</td>\n",
              "      <td>100.0</td>\n",
              "      <td>15.0</td>\n",
              "      <td>83.416667</td>\n",
              "      <td>Normal</td>\n",
              "      <td>504.961111</td>\n",
              "      <td>1.008014</td>\n",
              "      <td>...</td>\n",
              "      <td>8138.62</td>\n",
              "      <td>8.4195</td>\n",
              "      <td>0.03</td>\n",
              "      <td>392.0</td>\n",
              "      <td>2388</td>\n",
              "      <td>100.0</td>\n",
              "      <td>17.717318</td>\n",
              "      <td>10.622680</td>\n",
              "      <td>191</td>\n",
              "      <td>0</td>\n",
              "    </tr>\n",
              "    <tr>\n",
              "      <th>1</th>\n",
              "      <td>1</td>\n",
              "      <td>2</td>\n",
              "      <td>0.0019</td>\n",
              "      <td>-0.0003</td>\n",
              "      <td>100.0</td>\n",
              "      <td>15.0</td>\n",
              "      <td>83.600000</td>\n",
              "      <td>Normal</td>\n",
              "      <td>506.372222</td>\n",
              "      <td>1.008014</td>\n",
              "      <td>...</td>\n",
              "      <td>8131.49</td>\n",
              "      <td>8.4318</td>\n",
              "      <td>0.03</td>\n",
              "      <td>392.0</td>\n",
              "      <td>2388</td>\n",
              "      <td>100.0</td>\n",
              "      <td>17.690102</td>\n",
              "      <td>10.624766</td>\n",
              "      <td>190</td>\n",
              "      <td>0</td>\n",
              "    </tr>\n",
              "    <tr>\n",
              "      <th>2</th>\n",
              "      <td>1</td>\n",
              "      <td>3</td>\n",
              "      <td>-0.0043</td>\n",
              "      <td>0.0003</td>\n",
              "      <td>100.0</td>\n",
              "      <td>15.0</td>\n",
              "      <td>83.711111</td>\n",
              "      <td>Normal</td>\n",
              "      <td>506.961111</td>\n",
              "      <td>1.008014</td>\n",
              "      <td>...</td>\n",
              "      <td>8133.23</td>\n",
              "      <td>8.4178</td>\n",
              "      <td>0.03</td>\n",
              "      <td>390.0</td>\n",
              "      <td>2388</td>\n",
              "      <td>100.0</td>\n",
              "      <td>17.667423</td>\n",
              "      <td>10.588751</td>\n",
              "      <td>189</td>\n",
              "      <td>0</td>\n",
              "    </tr>\n",
              "    <tr>\n",
              "      <th>3</th>\n",
              "      <td>1</td>\n",
              "      <td>4</td>\n",
              "      <td>0.0007</td>\n",
              "      <td>0.0000</td>\n",
              "      <td>100.0</td>\n",
              "      <td>15.0</td>\n",
              "      <td>83.711111</td>\n",
              "      <td>Very Low</td>\n",
              "      <td>505.666667</td>\n",
              "      <td>1.008014</td>\n",
              "      <td>...</td>\n",
              "      <td>8133.83</td>\n",
              "      <td>8.3682</td>\n",
              "      <td>0.03</td>\n",
              "      <td>392.0</td>\n",
              "      <td>2388</td>\n",
              "      <td>100.0</td>\n",
              "      <td>17.635671</td>\n",
              "      <td>10.602223</td>\n",
              "      <td>188</td>\n",
              "      <td>0</td>\n",
              "    </tr>\n",
              "    <tr>\n",
              "      <th>4</th>\n",
              "      <td>1</td>\n",
              "      <td>5</td>\n",
              "      <td>-0.0019</td>\n",
              "      <td>-0.0002</td>\n",
              "      <td>100.0</td>\n",
              "      <td>15.0</td>\n",
              "      <td>83.722222</td>\n",
              "      <td>Normal</td>\n",
              "      <td>508.083333</td>\n",
              "      <td>1.008014</td>\n",
              "      <td>...</td>\n",
              "      <td>8133.80</td>\n",
              "      <td>8.4294</td>\n",
              "      <td>0.03</td>\n",
              "      <td>393.0</td>\n",
              "      <td>2388</td>\n",
              "      <td>100.0</td>\n",
              "      <td>17.644743</td>\n",
              "      <td>10.616057</td>\n",
              "      <td>187</td>\n",
              "      <td>0</td>\n",
              "    </tr>\n",
              "  </tbody>\n",
              "</table>\n",
              "<p>5 rows × 28 columns</p>\n",
              "</div>\n",
              "    <div class=\"colab-df-buttons\">\n",
              "\n",
              "  <div class=\"colab-df-container\">\n",
              "    <button class=\"colab-df-convert\" onclick=\"convertToInteractive('df-936c7c14-bb01-480d-94c5-51a64c9ff63e')\"\n",
              "            title=\"Convert this dataframe to an interactive table.\"\n",
              "            style=\"display:none;\">\n",
              "\n",
              "  <svg xmlns=\"http://www.w3.org/2000/svg\" height=\"24px\" viewBox=\"0 -960 960 960\">\n",
              "    <path d=\"M120-120v-720h720v720H120Zm60-500h600v-160H180v160Zm220 220h160v-160H400v160Zm0 220h160v-160H400v160ZM180-400h160v-160H180v160Zm440 0h160v-160H620v160ZM180-180h160v-160H180v160Zm440 0h160v-160H620v160Z\"/>\n",
              "  </svg>\n",
              "    </button>\n",
              "\n",
              "  <style>\n",
              "    .colab-df-container {\n",
              "      display:flex;\n",
              "      gap: 12px;\n",
              "    }\n",
              "\n",
              "    .colab-df-convert {\n",
              "      background-color: #E8F0FE;\n",
              "      border: none;\n",
              "      border-radius: 50%;\n",
              "      cursor: pointer;\n",
              "      display: none;\n",
              "      fill: #1967D2;\n",
              "      height: 32px;\n",
              "      padding: 0 0 0 0;\n",
              "      width: 32px;\n",
              "    }\n",
              "\n",
              "    .colab-df-convert:hover {\n",
              "      background-color: #E2EBFA;\n",
              "      box-shadow: 0px 1px 2px rgba(60, 64, 67, 0.3), 0px 1px 3px 1px rgba(60, 64, 67, 0.15);\n",
              "      fill: #174EA6;\n",
              "    }\n",
              "\n",
              "    .colab-df-buttons div {\n",
              "      margin-bottom: 4px;\n",
              "    }\n",
              "\n",
              "    [theme=dark] .colab-df-convert {\n",
              "      background-color: #3B4455;\n",
              "      fill: #D2E3FC;\n",
              "    }\n",
              "\n",
              "    [theme=dark] .colab-df-convert:hover {\n",
              "      background-color: #434B5C;\n",
              "      box-shadow: 0px 1px 3px 1px rgba(0, 0, 0, 0.15);\n",
              "      filter: drop-shadow(0px 1px 2px rgba(0, 0, 0, 0.3));\n",
              "      fill: #FFFFFF;\n",
              "    }\n",
              "  </style>\n",
              "\n",
              "    <script>\n",
              "      const buttonEl =\n",
              "        document.querySelector('#df-936c7c14-bb01-480d-94c5-51a64c9ff63e button.colab-df-convert');\n",
              "      buttonEl.style.display =\n",
              "        google.colab.kernel.accessAllowed ? 'block' : 'none';\n",
              "\n",
              "      async function convertToInteractive(key) {\n",
              "        const element = document.querySelector('#df-936c7c14-bb01-480d-94c5-51a64c9ff63e');\n",
              "        const dataTable =\n",
              "          await google.colab.kernel.invokeFunction('convertToInteractive',\n",
              "                                                    [key], {});\n",
              "        if (!dataTable) return;\n",
              "\n",
              "        const docLinkHtml = 'Like what you see? Visit the ' +\n",
              "          '<a target=\"_blank\" href=https://colab.research.google.com/notebooks/data_table.ipynb>data table notebook</a>'\n",
              "          + ' to learn more about interactive tables.';\n",
              "        element.innerHTML = '';\n",
              "        dataTable['output_type'] = 'display_data';\n",
              "        await google.colab.output.renderOutput(dataTable, element);\n",
              "        const docLink = document.createElement('div');\n",
              "        docLink.innerHTML = docLinkHtml;\n",
              "        element.appendChild(docLink);\n",
              "      }\n",
              "    </script>\n",
              "  </div>\n",
              "\n",
              "\n",
              "    <div id=\"df-b24a53b0-d21e-495d-b9cd-0ba4b833f9dd\">\n",
              "      <button class=\"colab-df-quickchart\" onclick=\"quickchart('df-b24a53b0-d21e-495d-b9cd-0ba4b833f9dd')\"\n",
              "                title=\"Suggest charts\"\n",
              "                style=\"display:none;\">\n",
              "\n",
              "<svg xmlns=\"http://www.w3.org/2000/svg\" height=\"24px\"viewBox=\"0 0 24 24\"\n",
              "     width=\"24px\">\n",
              "    <g>\n",
              "        <path d=\"M19 3H5c-1.1 0-2 .9-2 2v14c0 1.1.9 2 2 2h14c1.1 0 2-.9 2-2V5c0-1.1-.9-2-2-2zM9 17H7v-7h2v7zm4 0h-2V7h2v10zm4 0h-2v-4h2v4z\"/>\n",
              "    </g>\n",
              "</svg>\n",
              "      </button>\n",
              "\n",
              "<style>\n",
              "  .colab-df-quickchart {\n",
              "      --bg-color: #E8F0FE;\n",
              "      --fill-color: #1967D2;\n",
              "      --hover-bg-color: #E2EBFA;\n",
              "      --hover-fill-color: #174EA6;\n",
              "      --disabled-fill-color: #AAA;\n",
              "      --disabled-bg-color: #DDD;\n",
              "  }\n",
              "\n",
              "  [theme=dark] .colab-df-quickchart {\n",
              "      --bg-color: #3B4455;\n",
              "      --fill-color: #D2E3FC;\n",
              "      --hover-bg-color: #434B5C;\n",
              "      --hover-fill-color: #FFFFFF;\n",
              "      --disabled-bg-color: #3B4455;\n",
              "      --disabled-fill-color: #666;\n",
              "  }\n",
              "\n",
              "  .colab-df-quickchart {\n",
              "    background-color: var(--bg-color);\n",
              "    border: none;\n",
              "    border-radius: 50%;\n",
              "    cursor: pointer;\n",
              "    display: none;\n",
              "    fill: var(--fill-color);\n",
              "    height: 32px;\n",
              "    padding: 0;\n",
              "    width: 32px;\n",
              "  }\n",
              "\n",
              "  .colab-df-quickchart:hover {\n",
              "    background-color: var(--hover-bg-color);\n",
              "    box-shadow: 0 1px 2px rgba(60, 64, 67, 0.3), 0 1px 3px 1px rgba(60, 64, 67, 0.15);\n",
              "    fill: var(--button-hover-fill-color);\n",
              "  }\n",
              "\n",
              "  .colab-df-quickchart-complete:disabled,\n",
              "  .colab-df-quickchart-complete:disabled:hover {\n",
              "    background-color: var(--disabled-bg-color);\n",
              "    fill: var(--disabled-fill-color);\n",
              "    box-shadow: none;\n",
              "  }\n",
              "\n",
              "  .colab-df-spinner {\n",
              "    border: 2px solid var(--fill-color);\n",
              "    border-color: transparent;\n",
              "    border-bottom-color: var(--fill-color);\n",
              "    animation:\n",
              "      spin 1s steps(1) infinite;\n",
              "  }\n",
              "\n",
              "  @keyframes spin {\n",
              "    0% {\n",
              "      border-color: transparent;\n",
              "      border-bottom-color: var(--fill-color);\n",
              "      border-left-color: var(--fill-color);\n",
              "    }\n",
              "    20% {\n",
              "      border-color: transparent;\n",
              "      border-left-color: var(--fill-color);\n",
              "      border-top-color: var(--fill-color);\n",
              "    }\n",
              "    30% {\n",
              "      border-color: transparent;\n",
              "      border-left-color: var(--fill-color);\n",
              "      border-top-color: var(--fill-color);\n",
              "      border-right-color: var(--fill-color);\n",
              "    }\n",
              "    40% {\n",
              "      border-color: transparent;\n",
              "      border-right-color: var(--fill-color);\n",
              "      border-top-color: var(--fill-color);\n",
              "    }\n",
              "    60% {\n",
              "      border-color: transparent;\n",
              "      border-right-color: var(--fill-color);\n",
              "    }\n",
              "    80% {\n",
              "      border-color: transparent;\n",
              "      border-right-color: var(--fill-color);\n",
              "      border-bottom-color: var(--fill-color);\n",
              "    }\n",
              "    90% {\n",
              "      border-color: transparent;\n",
              "      border-bottom-color: var(--fill-color);\n",
              "    }\n",
              "  }\n",
              "</style>\n",
              "\n",
              "      <script>\n",
              "        async function quickchart(key) {\n",
              "          const quickchartButtonEl =\n",
              "            document.querySelector('#' + key + ' button');\n",
              "          quickchartButtonEl.disabled = true;  // To prevent multiple clicks.\n",
              "          quickchartButtonEl.classList.add('colab-df-spinner');\n",
              "          try {\n",
              "            const charts = await google.colab.kernel.invokeFunction(\n",
              "                'suggestCharts', [key], {});\n",
              "          } catch (error) {\n",
              "            console.error('Error during call to suggestCharts:', error);\n",
              "          }\n",
              "          quickchartButtonEl.classList.remove('colab-df-spinner');\n",
              "          quickchartButtonEl.classList.add('colab-df-quickchart-complete');\n",
              "        }\n",
              "        (() => {\n",
              "          let quickchartButtonEl =\n",
              "            document.querySelector('#df-b24a53b0-d21e-495d-b9cd-0ba4b833f9dd button');\n",
              "          quickchartButtonEl.style.display =\n",
              "            google.colab.kernel.accessAllowed ? 'block' : 'none';\n",
              "        })();\n",
              "      </script>\n",
              "    </div>\n",
              "\n",
              "    </div>\n",
              "  </div>\n"
            ],
            "application/vnd.google.colaboratory.intrinsic+json": {
              "type": "dataframe",
              "variable_name": "train_df"
            }
          },
          "metadata": {},
          "execution_count": 14
        }
      ],
      "source": [
        "train_df=replace_with_gaussian_bins(train_df,[\"HPC outlet temperature (°C)\"])\n",
        "test_df=replace_with_gaussian_bins(test_df,[\"HPC outlet temperature (°C)\"])\n",
        "train_df.head()"
      ]
    },
    {
      "cell_type": "code",
      "execution_count": 15,
      "metadata": {
        "colab": {
          "base_uri": "https://localhost:8080/"
        },
        "execution": {
          "iopub.execute_input": "2025-08-20T15:12:22.141057Z",
          "iopub.status.busy": "2025-08-20T15:12:22.140786Z",
          "iopub.status.idle": "2025-08-20T15:12:22.154475Z",
          "shell.execute_reply": "2025-08-20T15:12:22.153456Z",
          "shell.execute_reply.started": "2025-08-20T15:12:22.141040Z"
        },
        "id": "z1yz5wfVwXi0",
        "outputId": "f5568ad9-e7c3-42fd-d7e2-cac1a822fda5",
        "trusted": true
      },
      "outputs": [
        {
          "output_type": "stream",
          "name": "stdout",
          "text": [
            "Train rows: 18816 Test engines: 12039\n"
          ]
        }
      ],
      "source": [
        "\n",
        "\n",
        "features = ['engine_unit_number',\n",
        "  'time_cycles',\n",
        "  'LPC outlet temperature (°C)',\n",
        "  \"HPC outlet temperature (°C)\",\n",
        "  \"LPT outlet temperature (°C)\",\n",
        "  \"HPC outlet pressure (bar)\",\n",
        "  \"Physical core speed (rpm)\",\n",
        "  \"Fuel flow / Ps30 (kg/s/bar)\",\n",
        "  \"Corrected fan speed (rpm)\",\n",
        "  \"Bypass ratio (dimensionless)\",\n",
        "  \"Bleed enthalpy (kJ/kg)\",\n",
        "  \"HPT coolant bleed flow (kg/s)\"]\n",
        "\n",
        "\n",
        "\n",
        "X_train = train_df[features].copy()\n",
        "y_train = train_df[\"RUL_class\"].copy()\n",
        "\n",
        "X_test = test_df[features].copy()\n",
        "y_test = test_df[\"RUL_class\"].copy()\n",
        "\n",
        "\n",
        "print(\"Train rows:\", X_train.shape[0], \"Test engines:\", X_test.shape[0])"
      ]
    },
    {
      "cell_type": "markdown",
      "metadata": {
        "id": "-4oesPDawFJW"
      },
      "source": [
        "**<u>Question 2.1.1:</u>** <br>**Transform the categorical variables in each split with `OneHotEncoder`.** <br>\n",
        "\n",
        "\n",
        "The column names OneHotEncoder creates can be accessed with `.get_feature_names_out()`. <br>\n",
        "Go this [page](https://scikit-learn.org/stable/modules/generated/sklearn.preprocessing.OneHotEncoder.html) for more info on how to use scikit-learn's `OneHotEncoder` function. <br>\n",
        "\n",
        "*Don't forget, data preprocessing is only applied to the feature variables in the case of binary classification !*\n"
      ]
    },
    {
      "cell_type": "code",
      "execution_count": 16,
      "metadata": {
        "colab": {
          "base_uri": "https://localhost:8080/"
        },
        "execution": {
          "iopub.execute_input": "2025-08-20T15:12:23.357603Z",
          "iopub.status.busy": "2025-08-20T15:12:23.356900Z",
          "iopub.status.idle": "2025-08-20T15:12:23.399572Z",
          "shell.execute_reply": "2025-08-20T15:12:23.398379Z",
          "shell.execute_reply.started": "2025-08-20T15:12:23.357576Z"
        },
        "id": "2YWJ9DzIA3VH",
        "outputId": "3a14a3f4-f363-439b-c45b-2cd57449b124",
        "trusted": true
      },
      "outputs": [
        {
          "output_type": "stream",
          "name": "stdout",
          "text": [
            "Processed Training Data Head:\n",
            "   engine_unit_number  time_cycles  LPC outlet temperature (°C)  \\\n",
            "0                   1            1                    83.416667   \n",
            "1                   1            2                    83.600000   \n",
            "2                   1            3                    83.711111   \n",
            "3                   1            4                    83.711111   \n",
            "4                   1            5                    83.722222   \n",
            "\n",
            "   LPT outlet temperature (°C)  HPC outlet pressure (bar)  \\\n",
            "0                   504.961111                  38.221777   \n",
            "1                   506.372222                  38.179719   \n",
            "2                   506.961111                  38.214882   \n",
            "3                   505.666667                  38.227982   \n",
            "4                   508.083333                  38.196955   \n",
            "\n",
            "   Physical core speed (rpm)  Fuel flow / Ps30 (kg/s/bar)  \\\n",
            "0                    9046.19                    35.967191   \n",
            "1                    9044.07                    36.009938   \n",
            "2                    9052.94                    36.019591   \n",
            "3                    9049.48                    36.049928   \n",
            "4                    9055.15                    36.003733   \n",
            "\n",
            "   Corrected fan speed (rpm)  Bypass ratio (dimensionless)  \\\n",
            "0                    2388.02                        8.4195   \n",
            "1                    2388.07                        8.4318   \n",
            "2                    2388.03                        8.4178   \n",
            "3                    2388.08                        8.3682   \n",
            "4                    2388.04                        8.4294   \n",
            "\n",
            "   Bleed enthalpy (kJ/kg)  HPT coolant bleed flow (kg/s)  \\\n",
            "0                   392.0                      17.717318   \n",
            "1                   392.0                      17.690102   \n",
            "2                   390.0                      17.667423   \n",
            "3                   392.0                      17.635671   \n",
            "4                   393.0                      17.644743   \n",
            "\n",
            "   HPC outlet temperature (°C)_Extremely High  \\\n",
            "0                                         0.0   \n",
            "1                                         0.0   \n",
            "2                                         0.0   \n",
            "3                                         0.0   \n",
            "4                                         0.0   \n",
            "\n",
            "   HPC outlet temperature (°C)_Extremely Low  \\\n",
            "0                                        0.0   \n",
            "1                                        0.0   \n",
            "2                                        0.0   \n",
            "3                                        0.0   \n",
            "4                                        0.0   \n",
            "\n",
            "   HPC outlet temperature (°C)_High  HPC outlet temperature (°C)_Low  \\\n",
            "0                               0.0                              0.0   \n",
            "1                               0.0                              0.0   \n",
            "2                               0.0                              0.0   \n",
            "3                               0.0                              0.0   \n",
            "4                               0.0                              0.0   \n",
            "\n",
            "   HPC outlet temperature (°C)_Normal  HPC outlet temperature (°C)_Very High  \\\n",
            "0                                 1.0                                    0.0   \n",
            "1                                 1.0                                    0.0   \n",
            "2                                 1.0                                    0.0   \n",
            "3                                 0.0                                    0.0   \n",
            "4                                 1.0                                    0.0   \n",
            "\n",
            "   HPC outlet temperature (°C)_Very Low  \n",
            "0                                   0.0  \n",
            "1                                   0.0  \n",
            "2                                   0.0  \n",
            "3                                   1.0  \n",
            "4                                   0.0  \n",
            "\n",
            "Processed Training Data Shape:\n",
            "(18816, 18)\n",
            "\n",
            "Processed Test Data Head:\n",
            "   engine_unit_number  time_cycles  LPC outlet temperature (°C)  \\\n",
            "0                   1            1                    84.083333   \n",
            "1                   1            2                    83.355556   \n",
            "2                   1            3                    83.772222   \n",
            "3                   1            4                    83.761111   \n",
            "4                   1            5                    83.800000   \n",
            "\n",
            "   LPT outlet temperature (°C)  HPC outlet pressure (bar)  \\\n",
            "0                   503.633333                  38.190061   \n",
            "1                   502.083333                  38.255561   \n",
            "2                   505.372222                  38.204540   \n",
            "3                   508.194444                  38.201782   \n",
            "4                   505.694444                  38.207987   \n",
            "\n",
            "   Physical core speed (rpm)  Fuel flow / Ps30 (kg/s/bar)  \\\n",
            "0                    9050.17                    35.971328   \n",
            "1                    9054.42                    36.001665   \n",
            "2                    9056.96                    35.988565   \n",
            "3                    9045.29                    35.947886   \n",
            "4                    9044.55                    36.000975   \n",
            "\n",
            "   Corrected fan speed (rpm)  Bypass ratio (dimensionless)  \\\n",
            "0                    2388.03                        8.4052   \n",
            "1                    2388.06                        8.3803   \n",
            "2                    2388.03                        8.4441   \n",
            "3                    2388.05                        8.3917   \n",
            "4                    2388.03                        8.4031   \n",
            "\n",
            "   Bleed enthalpy (kJ/kg)  HPT coolant bleed flow (kg/s)  \\\n",
            "0                     392                      17.626599   \n",
            "1                     393                      17.699174   \n",
            "2                     393                      17.726390   \n",
            "3                     391                      17.690102   \n",
            "4                     390                      17.685567   \n",
            "\n",
            "   HPC outlet temperature (°C)_Extremely High  \\\n",
            "0                                         0.0   \n",
            "1                                         0.0   \n",
            "2                                         0.0   \n",
            "3                                         0.0   \n",
            "4                                         0.0   \n",
            "\n",
            "   HPC outlet temperature (°C)_Extremely Low  \\\n",
            "0                                        0.0   \n",
            "1                                        0.0   \n",
            "2                                        0.0   \n",
            "3                                        0.0   \n",
            "4                                        0.0   \n",
            "\n",
            "   HPC outlet temperature (°C)_High  HPC outlet temperature (°C)_Low  \\\n",
            "0                               0.0                              1.0   \n",
            "1                               0.0                              0.0   \n",
            "2                               0.0                              0.0   \n",
            "3                               0.0                              1.0   \n",
            "4                               0.0                              0.0   \n",
            "\n",
            "   HPC outlet temperature (°C)_Normal  HPC outlet temperature (°C)_Very High  \\\n",
            "0                                 0.0                                    0.0   \n",
            "1                                 1.0                                    0.0   \n",
            "2                                 1.0                                    0.0   \n",
            "3                                 0.0                                    0.0   \n",
            "4                                 1.0                                    0.0   \n",
            "\n",
            "   HPC outlet temperature (°C)_Very Low  \n",
            "0                                   0.0  \n",
            "1                                   0.0  \n",
            "2                                   0.0  \n",
            "3                                   0.0  \n",
            "4                                   0.0  \n",
            "\n",
            "Processed Test Data Shape:\n",
            "(12039, 18)\n"
          ]
        }
      ],
      "source": [
        "categorical_features = [\"HPC outlet temperature (°C)\"]\n",
        "ohe = OneHotEncoder(handle_unknown='ignore', sparse_output=False)\n",
        "\n",
        "# Fit the encoder to the training data and transform it.\n",
        "ohe_train_transformed = ohe.fit_transform(X_train[categorical_features])\n",
        "\n",
        "# Get the names for the new columns from the encoder.\n",
        "ohe_feature_names = ohe.get_feature_names_out(categorical_features)\n",
        "\n",
        "# Create a new DataFrame with the encoded features, preserving the original index.\n",
        "X_train_ohe = pd.DataFrame(ohe_train_transformed, columns=ohe_feature_names, index=X_train.index)\n",
        "\n",
        "# Remove the original categorical column and add the new encoded columns.\n",
        "X_train_processed = pd.concat([X_train.drop(columns=categorical_features), X_train_ohe], axis=1)\n",
        "\n",
        "# Transform the test data using the already-fitted encoder.\n",
        "ohe_test_transformed = ohe.transform(X_test[categorical_features])\n",
        "\n",
        "# Create a DataFrame for the test set's new encoded features.\n",
        "X_test_ohe = pd.DataFrame(ohe_test_transformed, columns=ohe_feature_names, index=X_test.index)\n",
        "\n",
        "# Combine the numerical features with the encoded features for the test set.\n",
        "X_test_processed = pd.concat([X_test.drop(columns=categorical_features), X_test_ohe], axis=1)\n",
        "\n",
        "# Display the results.\n",
        "print(\"Processed Training Data Head:\")\n",
        "print(X_train_processed.head())\n",
        "print(\"\\nProcessed Training Data Shape:\")\n",
        "print(X_train_processed.shape)\n",
        "print(\"\\nProcessed Test Data Head:\")\n",
        "print(X_test_processed.head())\n",
        "print(\"\\nProcessed Test Data Shape:\")\n",
        "print(X_test_processed.shape)\n"
      ]
    },
    {
      "cell_type": "markdown",
      "metadata": {
        "id": "AGCZAcSPW3Di"
      },
      "source": [
        "However label encoding is preferred over one-hot encoding for ordinal labels because ordinal features have a meaningful, intrinsic order (e.g., Low < Medium < High). Label encoding preserves this natural ranking by mapping categories to integers that reflect their order, allowing models to interpret the progression between categories. In contrast, one-hot encoding would treat each category as unrelated, discarding the ordinal relationship and increasing the number of features unnecessarily, which can reduce efficiency without adding value."
      ]
    },
    {
      "cell_type": "markdown",
      "metadata": {
        "id": "1glnMTcVOoZx"
      },
      "source": [
        "**<u>Question 2.1.2:</u>** <br>**Transform the categorical variables with `LabelEncoder`.** <br>\n",
        "\n",
        "\n",
        "The column names LabelEncoder creates can be accessed with `.get_feature_names_out()`. <br>\n",
        "Go this [page](https://scikit-learn.org/stable/modules/generated/sklearn.preprocessing.LabelEncoder.html) for more info on how to use scikit-learn's `LabelEncoder` function. <br>\n",
        "\n",
        "*Don't forget, data preprocessing is only applied to the feature variables in the case of binary classification !*"
      ]
    },
    {
      "cell_type": "code",
      "execution_count": 17,
      "metadata": {
        "colab": {
          "base_uri": "https://localhost:8080/"
        },
        "execution": {
          "iopub.execute_input": "2025-08-20T15:12:27.357478Z",
          "iopub.status.busy": "2025-08-20T15:12:27.357166Z",
          "iopub.status.idle": "2025-08-20T15:12:27.381033Z",
          "shell.execute_reply": "2025-08-20T15:12:27.380147Z",
          "shell.execute_reply.started": "2025-08-20T15:12:27.357454Z"
        },
        "id": "W51mOKEw3Ery",
        "outputId": "793e8814-1b3b-49c2-a5c6-9b0c1b0b89a7",
        "trusted": true
      },
      "outputs": [
        {
          "output_type": "stream",
          "name": "stdout",
          "text": [
            "Categorical columns: ['HPC outlet temperature (°C)']\n",
            "Processed Training Data with LabelEncoder (Head):\n",
            "   HPC outlet temperature (°C)\n",
            "0                            4\n",
            "1                            4\n",
            "2                            4\n",
            "3                            6\n",
            "4                            4\n",
            "\n",
            "Shape of Processed Training Data:\n",
            "(18816, 1)\n",
            "\n",
            "Processed Test Data with LabelEncoder (Head):\n",
            "   HPC outlet temperature (°C)\n",
            "0                            3\n",
            "1                            4\n",
            "2                            4\n",
            "3                            3\n",
            "4                            4\n",
            "\n",
            "Shape of Processed Test Data:\n",
            "(12039, 1)\n"
          ]
        },
        {
          "output_type": "stream",
          "name": "stderr",
          "text": [
            "/usr/local/lib/python3.12/dist-packages/sklearn/preprocessing/_label.py:110: DataConversionWarning: A column-vector y was passed when a 1d array was expected. Please change the shape of y to (n_samples, ), for example using ravel().\n",
            "  y = column_or_1d(y, warn=True)\n",
            "/usr/local/lib/python3.12/dist-packages/sklearn/preprocessing/_label.py:129: DataConversionWarning: A column-vector y was passed when a 1d array was expected. Please change the shape of y to (n_samples, ), for example using ravel().\n",
            "  y = column_or_1d(y, dtype=self.classes_.dtype, warn=True)\n"
          ]
        }
      ],
      "source": [
        "categorical_cols = X_train.select_dtypes(include=['category']).columns.tolist()\n",
        "print(\"Categorical columns:\", categorical_cols)\n",
        "\n",
        "# Initialize the LabelEncoder.\n",
        "le = LabelEncoder()\n",
        "\n",
        "# Fit the encoder to the training data and transform it.\n",
        "X_train_le = le.fit_transform(X_train[categorical_cols])\n",
        "# Transform the test data using the already-fitted encoder.\n",
        "X_test_le = le.transform(X_test[categorical_cols])\n",
        "\n",
        "X_train_le = pd.DataFrame(X_train_le, columns=categorical_cols)\n",
        "X_test_le = pd.DataFrame(X_test_le, columns=categorical_cols)\n",
        "\n",
        "# Display the results to show the transformation.\n",
        "print(\"Processed Training Data with LabelEncoder (Head):\")\n",
        "print(X_train_le.head())\n",
        "print(\"\\nShape of Processed Training Data:\")\n",
        "print(X_train_le.shape)\n",
        "\n",
        "print(\"\\nProcessed Test Data with LabelEncoder (Head):\")\n",
        "print(X_test_le.head())\n",
        "print(\"\\nShape of Processed Test Data:\")\n",
        "print(X_test_le.shape)"
      ]
    },
    {
      "cell_type": "code",
      "execution_count": 18,
      "metadata": {
        "colab": {
          "base_uri": "https://localhost:8080/"
        },
        "id": "WpT9Sl9WP-Hb",
        "outputId": "a49da5fb-148f-4d3e-af69-f36131db079c"
      },
      "outputs": [
        {
          "output_type": "stream",
          "name": "stdout",
          "text": [
            "Mapping of categories to numerical values:\n",
            "Extremely High: 0\n",
            "Extremely Low: 1\n",
            "High: 2\n",
            "Low: 3\n",
            "Normal: 4\n",
            "Very High: 5\n",
            "Very Low: 6\n"
          ]
        }
      ],
      "source": [
        "# Display the mapping between original categories and encoded numerical values\n",
        "print(\"Mapping of categories to numerical values:\")\n",
        "for i, category in enumerate(le.classes_):\n",
        "    print(f\"{category}: {i}\")"
      ]
    },
    {
      "cell_type": "markdown",
      "metadata": {
        "id": "2sbpfPQzrEGG"
      },
      "source": [
        "The order obtained doesn't follow strictly the natural order (It's rather the alphabetic one). We'll go for a more natural way to encode this categorical feature"
      ]
    },
    {
      "cell_type": "code",
      "execution_count": 19,
      "metadata": {
        "colab": {
          "base_uri": "https://localhost:8080/"
        },
        "id": "oW51vl2rq4_m",
        "outputId": "dace34cc-027a-415f-c588-2380f7841213"
      },
      "outputs": [
        {
          "output_type": "stream",
          "name": "stdout",
          "text": [
            "Processed Training Data with Manual Encoding (Head):\n",
            "   engine_unit_number  time_cycles  LPC outlet temperature (°C)  \\\n",
            "0                   1            1                    83.416667   \n",
            "1                   1            2                    83.600000   \n",
            "2                   1            3                    83.711111   \n",
            "3                   1            4                    83.711111   \n",
            "4                   1            5                    83.722222   \n",
            "\n",
            "  HPC outlet temperature (°C)  LPT outlet temperature (°C)  \\\n",
            "0                           3                   504.961111   \n",
            "1                           3                   506.372222   \n",
            "2                           3                   506.961111   \n",
            "3                           1                   505.666667   \n",
            "4                           3                   508.083333   \n",
            "\n",
            "   HPC outlet pressure (bar)  Physical core speed (rpm)  \\\n",
            "0                  38.221777                    9046.19   \n",
            "1                  38.179719                    9044.07   \n",
            "2                  38.214882                    9052.94   \n",
            "3                  38.227982                    9049.48   \n",
            "4                  38.196955                    9055.15   \n",
            "\n",
            "   Fuel flow / Ps30 (kg/s/bar)  Corrected fan speed (rpm)  \\\n",
            "0                    35.967191                    2388.02   \n",
            "1                    36.009938                    2388.07   \n",
            "2                    36.019591                    2388.03   \n",
            "3                    36.049928                    2388.08   \n",
            "4                    36.003733                    2388.04   \n",
            "\n",
            "   Bypass ratio (dimensionless)  Bleed enthalpy (kJ/kg)  \\\n",
            "0                        8.4195                   392.0   \n",
            "1                        8.4318                   392.0   \n",
            "2                        8.4178                   390.0   \n",
            "3                        8.3682                   392.0   \n",
            "4                        8.4294                   393.0   \n",
            "\n",
            "   HPT coolant bleed flow (kg/s)  \n",
            "0                      17.717318  \n",
            "1                      17.690102  \n",
            "2                      17.667423  \n",
            "3                      17.635671  \n",
            "4                      17.644743  \n",
            "\n",
            "Shape of Processed Training Data:\n",
            "(18816, 12)\n",
            "\n",
            "Processed Test Data with Manual Encoding (Head):\n",
            "   engine_unit_number  time_cycles  LPC outlet temperature (°C)  \\\n",
            "0                   1            1                    84.083333   \n",
            "1                   1            2                    83.355556   \n",
            "2                   1            3                    83.772222   \n",
            "3                   1            4                    83.761111   \n",
            "4                   1            5                    83.800000   \n",
            "\n",
            "  HPC outlet temperature (°C)  LPT outlet temperature (°C)  \\\n",
            "0                           2                   503.633333   \n",
            "1                           3                   502.083333   \n",
            "2                           3                   505.372222   \n",
            "3                           2                   508.194444   \n",
            "4                           3                   505.694444   \n",
            "\n",
            "   HPC outlet pressure (bar)  Physical core speed (rpm)  \\\n",
            "0                  38.190061                    9050.17   \n",
            "1                  38.255561                    9054.42   \n",
            "2                  38.204540                    9056.96   \n",
            "3                  38.201782                    9045.29   \n",
            "4                  38.207987                    9044.55   \n",
            "\n",
            "   Fuel flow / Ps30 (kg/s/bar)  Corrected fan speed (rpm)  \\\n",
            "0                    35.971328                    2388.03   \n",
            "1                    36.001665                    2388.06   \n",
            "2                    35.988565                    2388.03   \n",
            "3                    35.947886                    2388.05   \n",
            "4                    36.000975                    2388.03   \n",
            "\n",
            "   Bypass ratio (dimensionless)  Bleed enthalpy (kJ/kg)  \\\n",
            "0                        8.4052                     392   \n",
            "1                        8.3803                     393   \n",
            "2                        8.4441                     393   \n",
            "3                        8.3917                     391   \n",
            "4                        8.4031                     390   \n",
            "\n",
            "   HPT coolant bleed flow (kg/s)  \n",
            "0                      17.626599  \n",
            "1                      17.699174  \n",
            "2                      17.726390  \n",
            "3                      17.690102  \n",
            "4                      17.685567  \n",
            "\n",
            "Shape of Processed Test Data:\n",
            "(12039, 12)\n"
          ]
        }
      ],
      "source": [
        "# We'll use a manual mapping first,because the category is ordinal(or we can just use OrdinalEncoder to begin with)\n",
        "# The default encoding for LabelEncoder uses alphabetical sorting which would give close encoding both to \"Extremeley Low\" and \"Extremely High\"\n",
        "# Now to use manual encoding that takes into account temperature order\n",
        "# Create copies of the original dataframes to work with.\n",
        "X_train_manual = X_train.copy()\n",
        "X_test_manual = X_test.copy()\n",
        "\n",
        "# Define the explicit order of the categories from lowest to highest.\n",
        "temperature_mapping = {\n",
        "    \"Extremely Low\": 0,\n",
        "    \"Very Low\": 1,\n",
        "    \"Low\": 2,\n",
        "    \"Normal\": 3,\n",
        "    \"High\": 4,\n",
        "    \"Very High\": 5,\n",
        "    \"Extremely High\": 6\n",
        "}\n",
        "\n",
        "# The categorical column to be transformed.\n",
        "\n",
        "# Apply the custom mapping to the column in both the training and test sets.\n",
        "for col in categorical_cols:\n",
        "    X_train_manual[col] = X_train_manual[col].map(temperature_mapping)\n",
        "    X_test_manual[col] = X_test_manual[col].map(temperature_mapping)\n",
        "\n",
        "# Display the results to verify the manual encoding.\n",
        "print(\"Processed Training Data with Manual Encoding (Head):\")\n",
        "print(X_train_manual.head())\n",
        "print(\"\\nShape of Processed Training Data:\")\n",
        "print(X_train_manual.shape)\n",
        "\n",
        "print(\"\\nProcessed Test Data with Manual Encoding (Head):\")\n",
        "print(X_test_manual.head())\n",
        "print(\"\\nShape of Processed Test Data:\")\n",
        "print(X_test_manual.shape)"
      ]
    },
    {
      "cell_type": "markdown",
      "metadata": {
        "id": "jEZKH5E5Qdgt"
      },
      "source": [
        "Remark: The mapping is not following perfectly the natural order. We'll go for something else"
      ]
    },
    {
      "cell_type": "markdown",
      "metadata": {
        "id": "UwttVkxewFJW"
      },
      "source": [
        "**<u>Question 2.1.3</u>**: <br>\n",
        "**Scale the continuous variables using either `StandardScaler` (standardization) or `MinMaxScaler` (normalization).**<br>\n",
        "\n",
        "\n",
        "\n"
      ]
    },
    {
      "cell_type": "code",
      "execution_count": 20,
      "metadata": {
        "colab": {
          "base_uri": "https://localhost:8080/"
        },
        "execution": {
          "iopub.execute_input": "2025-08-20T15:12:32.036734Z",
          "iopub.status.busy": "2025-08-20T15:12:32.036401Z",
          "iopub.status.idle": "2025-08-20T15:12:32.106560Z",
          "shell.execute_reply": "2025-08-20T15:12:32.105600Z",
          "shell.execute_reply.started": "2025-08-20T15:12:32.036707Z"
        },
        "id": "7Dpy9DLf3Ery",
        "outputId": "65bd72f4-d39b-433e-a8fd-4cf1559d9a83",
        "trusted": true
      },
      "outputs": [
        {
          "output_type": "stream",
          "name": "stdout",
          "text": [
            "--- Data after StandardScaler ---\n",
            "Processed Training Data Head (Standardized):\n",
            "   engine_unit_number  time_cycles  LPC outlet temperature (°C)  \\\n",
            "0           -1.746299    -1.557798                    -1.773618   \n",
            "1           -1.746299    -1.542544                    -1.057229   \n",
            "2           -1.746299    -1.527291                    -0.623053   \n",
            "3           -1.746299    -1.512037                    -0.623053   \n",
            "4           -1.746299    -1.496784                    -0.579636   \n",
            "\n",
            "  HPC outlet temperature (°C)  LPT outlet temperature (°C)  \\\n",
            "0                           3                    -0.919377   \n",
            "1                           3                    -0.607044   \n",
            "2                           3                    -0.476700   \n",
            "3                           1                    -0.763210   \n",
            "4                           3                    -0.228309   \n",
            "\n",
            "   HPC outlet pressure (bar)  Physical core speed (rpm)  \\\n",
            "0                   1.131810                  -1.117318   \n",
            "1                   0.381133                  -1.270342   \n",
            "2                   1.008748                  -0.630095   \n",
            "3                   1.242565                  -0.879842   \n",
            "4                   0.688787                  -0.470574   \n",
            "\n",
            "   Fuel flow / Ps30 (kg/s/bar)  Corrected fan speed (rpm)  \\\n",
            "0                     0.274525                  -1.077788   \n",
            "1                     1.190581                  -0.335824   \n",
            "2                     1.397433                  -0.929395   \n",
            "3                     2.047537                  -0.187431   \n",
            "4                     1.057605                  -0.781002   \n",
            "\n",
            "   Bypass ratio (dimensionless)  Bleed enthalpy (kJ/kg)  \\\n",
            "0                     -0.564091               -0.782207   \n",
            "1                     -0.202865               -0.782207   \n",
            "2                     -0.614016               -2.238177   \n",
            "3                     -2.070665               -0.782207   \n",
            "4                     -0.273348               -0.054222   \n",
            "\n",
            "   HPT coolant bleed flow (kg/s)  \n",
            "0                       1.382189  \n",
            "1                       1.017281  \n",
            "2                       0.713190  \n",
            "3                       0.287464  \n",
            "4                       0.409100  \n"
          ]
        }
      ],
      "source": [
        "# HPC is exempted from scaling because we're counting it as categorical and not continuous in our case\n",
        "# Use the categorical_cols defined earlier to exclude them from continuous features\n",
        "continuous_features = [col for col in X_train_manual.columns if col not in categorical_cols]\n",
        "\n",
        "# --- Method 1: StandardScaler ---\n",
        "# Create a copy to store the standardized data.\n",
        "X_train_scaled = X_train_manual.copy()\n",
        "X_test_scaled = X_test_manual.copy()\n",
        "\n",
        "# Initialize the scaler\n",
        "scaler = StandardScaler()\n",
        "\n",
        "# Fit on the training data and transform both train and test data.\n",
        "X_train_scaled[continuous_features] = scaler.fit_transform(X_train_scaled[continuous_features])\n",
        "X_test_scaled[continuous_features] = scaler.transform(X_test_scaled[continuous_features])\n",
        "\n",
        "print(\"--- Data after StandardScaler ---\")\n",
        "print(\"Processed Training Data Head (Standardized):\")\n",
        "print(X_train_scaled.head())"
      ]
    },
    {
      "cell_type": "code",
      "execution_count": 21,
      "metadata": {
        "colab": {
          "base_uri": "https://localhost:8080/"
        },
        "execution": {
          "iopub.execute_input": "2025-08-20T15:12:33.668173Z",
          "iopub.status.busy": "2025-08-20T15:12:33.667881Z",
          "iopub.status.idle": "2025-08-20T15:12:33.691717Z",
          "shell.execute_reply": "2025-08-20T15:12:33.690850Z",
          "shell.execute_reply.started": "2025-08-20T15:12:33.668153Z"
        },
        "id": "yeOr8cBxxd1Q",
        "outputId": "dfa14aa6-3c1b-4aa9-e98f-6abcf613dd22",
        "trusted": true
      },
      "outputs": [
        {
          "output_type": "stream",
          "name": "stdout",
          "text": [
            "\n",
            "\n",
            "--- Data after MinMaxScaler ---\n",
            "Processed Training Data Head (Normalized):\n",
            "   engine_unit_number  time_cycles  LPC outlet temperature (°C)  \\\n",
            "0                 0.0     0.000000                     0.205387   \n",
            "1                 0.0     0.002817                     0.316498   \n",
            "2                 0.0     0.005634                     0.383838   \n",
            "3                 0.0     0.008451                     0.383838   \n",
            "4                 0.0     0.011268                     0.390572   \n",
            "\n",
            "  HPC outlet temperature (°C)  LPT outlet temperature (°C)  \\\n",
            "0                           3                     0.345184   \n",
            "1                           3                     0.392965   \n",
            "2                           3                     0.412904   \n",
            "3                           1                     0.369074   \n",
            "4                           3                     0.450903   \n",
            "\n",
            "   HPC outlet pressure (bar)  Physical core speed (rpm)  \\\n",
            "0                   0.706458                   0.221649   \n",
            "1                   0.587084                   0.200615   \n",
            "2                   0.686888                   0.288620   \n",
            "3                   0.724070                   0.254291   \n",
            "4                   0.636008                   0.310547   \n",
            "\n",
            "   Fuel flow / Ps30 (kg/s/bar)  Corrected fan speed (rpm)  \\\n",
            "0                     0.574257                   0.317073   \n",
            "1                     0.727723                   0.439024   \n",
            "2                     0.762376                   0.341463   \n",
            "3                     0.871287                   0.463415   \n",
            "4                     0.705446                   0.365854   \n",
            "\n",
            "   Bypass ratio (dimensionless)  Bleed enthalpy (kJ/kg)  \\\n",
            "0                      0.403763                   0.375   \n",
            "1                      0.463097                   0.375   \n",
            "2                      0.395562                   0.125   \n",
            "3                      0.156295                   0.375   \n",
            "4                      0.451520                   0.500   \n",
            "\n",
            "   HPT coolant bleed flow (kg/s)  \n",
            "0                       0.734694  \n",
            "1                       0.673469  \n",
            "2                       0.622449  \n",
            "3                       0.551020  \n",
            "4                       0.571429  \n"
          ]
        }
      ],
      "source": [
        "# --- Method 2: MinMaxScaler ---\n",
        "# Create a copy to store the normalized data.\n",
        "X_train_normalized = X_train_manual.copy()\n",
        "X_test_normalized = X_test_manual.copy()\n",
        "\n",
        "# Initialize the MinMaxScaler.\n",
        "min_max_scaler = MinMaxScaler()\n",
        "\n",
        "# Fit on the training data and transform both train and test data.\n",
        "X_train_normalized[continuous_features] = min_max_scaler.fit_transform(X_train_normalized[continuous_features])\n",
        "X_test_normalized[continuous_features] = min_max_scaler.transform(X_test_normalized[continuous_features])\n",
        "\n",
        "X_train_scaled = X_train_normalized\n",
        "X_test_scaled = X_test_normalized\n",
        "\n",
        "print(\"\\n\\n--- Data after MinMaxScaler ---\")\n",
        "print(\"Processed Training Data Head (Normalized):\")\n",
        "print(X_train_normalized.head())\n"
      ]
    },
    {
      "cell_type": "markdown",
      "metadata": {
        "id": "K9P9cvpH73he"
      },
      "source": [
        "### **2.2 Model training and evaluation**\n",
        "Now that our dataset has been preprocessed, we can use it to train Machine Learning models.\n",
        "\n",
        "\n",
        "\n"
      ]
    },
    {
      "cell_type": "code",
      "execution_count": 22,
      "metadata": {
        "execution": {
          "iopub.execute_input": "2025-08-20T15:12:35.578847Z",
          "iopub.status.busy": "2025-08-20T15:12:35.578507Z",
          "iopub.status.idle": "2025-08-20T15:12:36.442106Z",
          "shell.execute_reply": "2025-08-20T15:12:36.441194Z",
          "shell.execute_reply.started": "2025-08-20T15:12:35.578827Z"
        },
        "id": "lrOnwmzxLGdL",
        "trusted": true
      },
      "outputs": [],
      "source": [
        "# Metrics for evaluation\n",
        "from sklearn.metrics import (\n",
        "    accuracy_score, precision_score, recall_score, f1_score,\n",
        "    confusion_matrix, roc_curve, auc, precision_recall_curve,\n",
        "    classification_report, roc_auc_score, PrecisionRecallDisplay, average_precision_score\n",
        ")\n",
        "\n",
        "# hyperparameter tuning\n",
        "from sklearn.model_selection import GridSearchCV\n",
        "\n",
        "# Classification algorithms\n",
        "from sklearn.linear_model import LogisticRegression\n",
        "from sklearn.neighbors import KNeighborsClassifier\n",
        "from sklearn.tree import DecisionTreeClassifier\n",
        "from sklearn.ensemble import RandomForestClassifier, GradientBoostingClassifier\n",
        "from sklearn.svm import SVC\n",
        "from sklearn.metrics import ConfusionMatrixDisplay\n",
        "\n",
        "# Plotting & Style\n",
        "import seaborn as sns\n",
        "sns.set(style=\"whitegrid\")\n"
      ]
    },
    {
      "cell_type": "markdown",
      "metadata": {
        "id": "XNL0EcTFwFJX"
      },
      "source": [
        "**Train three models of your choice** (Logistic Regression, K nearest neighbor, Decision Tree,...) **using scikit-learn's `.fit()` method. <br>**\n",
        "\n",
        "<u>Help</u>: Train these models on the training set (`X_train` and `y_train`).\n",
        "\n",
        "advice: Try Random Forest\n",
        "\n"
      ]
    },
    {
      "cell_type": "markdown",
      "metadata": {
        "id": "NOqEmiJV7x-Z"
      },
      "source": [
        "**Why classification instead of regression?**\n",
        "\n",
        "Although the Remaining Useful Life (RUL) is a continuous variable, here we approach the problem as classification because:\n",
        "\n",
        "- Classification simplifies decision-making by focusing on whether an engine is likely to fail soon (within 30 cycles) rather than predicting the exact remaining cycles.\n",
        "- Regression models on RUL often struggle to be robust due to noise and variability in the sensor data.\n",
        "- Classification allows for more stable, actionable predictions aligned with maintenance needs: \"replace soon\" vs \"safe\"."
      ]
    },
    {
      "cell_type": "markdown",
      "metadata": {
        "id": "QkHDWOJsjviz"
      },
      "source": [
        "<u>**Question 2.2.1**:</u> <br>  Choose any three models to try. Which ones do you pick ?"
      ]
    },
    {
      "cell_type": "markdown",
      "metadata": {
        "id": "nux2T3aX3Ery"
      },
      "source": [
        "1. Gradient Boosting Classifier\n",
        "2. K-NN\n",
        "3. Random Forest"
      ]
    },
    {
      "cell_type": "markdown",
      "metadata": {
        "id": "J6LvCTBQj3uV"
      },
      "source": [
        "<u>**Question 2.2.2**:</u> <br> Train the FIRST selected model using .fit(X_train_scaled, y_train)."
      ]
    },
    {
      "cell_type": "code",
      "execution_count": 23,
      "metadata": {
        "colab": {
          "base_uri": "https://localhost:8080/"
        },
        "execution": {
          "iopub.execute_input": "2025-08-20T15:12:39.796145Z",
          "iopub.status.busy": "2025-08-20T15:12:39.795384Z",
          "iopub.status.idle": "2025-08-20T15:12:39.977978Z",
          "shell.execute_reply": "2025-08-20T15:12:39.976645Z",
          "shell.execute_reply.started": "2025-08-20T15:12:39.796118Z"
        },
        "id": "o_RDVxx53Ery",
        "outputId": "ded77f86-9c9e-4bc4-a1bb-f22621e98919",
        "trusted": true
      },
      "outputs": [
        {
          "output_type": "stream",
          "name": "stdout",
          "text": [
            "--- 1. Training Gradient Boosting Classifier Model ---\n",
            "Gradient Boosting Classifier Model trained successfully.\n"
          ]
        }
      ],
      "source": [
        "# --- 1. Logistic Regression ---\n",
        "\n",
        "print(\"--- 1. Training Gradient Boosting Classifier Model ---\")\n",
        "\n",
        "# Initialize the model\n",
        "grad_boost = GradientBoostingClassifier()\n",
        "grad_boost.fit(X_train_scaled, y_train)\n",
        "print(\"Gradient Boosting Classifier Model trained successfully.\")"
      ]
    },
    {
      "cell_type": "markdown",
      "metadata": {
        "id": "GuAK_ClYkWfE"
      },
      "source": [
        "<u>**Question 2.2.3**:</u> <br> Train the SECOND and THIRD selected models."
      ]
    },
    {
      "cell_type": "code",
      "execution_count": 24,
      "metadata": {
        "colab": {
          "base_uri": "https://localhost:8080/"
        },
        "execution": {
          "iopub.execute_input": "2025-08-20T15:12:41.645772Z",
          "iopub.status.busy": "2025-08-20T15:12:41.645123Z",
          "iopub.status.idle": "2025-08-20T15:12:44.553235Z",
          "shell.execute_reply": "2025-08-20T15:12:44.552091Z",
          "shell.execute_reply.started": "2025-08-20T15:12:41.645741Z"
        },
        "id": "EP4racwN3Erz",
        "outputId": "1b5d9383-2172-4873-f40d-73b7d20cf2bb",
        "trusted": true
      },
      "outputs": [
        {
          "output_type": "stream",
          "name": "stdout",
          "text": [
            "\n",
            "Training the K-Nearest Neighbors (KNN) model...\n",
            "KNN model trained successfully.\n",
            "\n",
            "Training the Random Forest model...\n",
            "Random Forest model trained successfully.\n"
          ]
        }
      ],
      "source": [
        "# --- 2. Train K-Nearest Neighbors (KNN) Model ---\n",
        "print(\"\\nTraining the K-Nearest Neighbors (KNN) model...\")\n",
        "# Initialize the model (using default n_neighbors=5).\n",
        "knn = KNeighborsClassifier()\n",
        "# Train the model on the scaled training data.\n",
        "knn.fit(X_train_scaled, y_train)\n",
        "print(\"KNN model trained successfully.\")\n",
        "# --- 3. Train Random Forest Model ---\n",
        "print(\"\\nTraining the Random Forest model...\")\n",
        "# Initialize the model with a random_state for reproducibility.\n",
        "random_forest = RandomForestClassifier(random_state=42)\n",
        "# Train the model on the scaled training data.\n",
        "random_forest.fit(X_train_scaled, y_train)\n",
        "print(\"Random Forest model trained successfully.\")"
      ]
    },
    {
      "cell_type": "markdown",
      "metadata": {
        "id": "NKYHRbb0ZXWE"
      },
      "source": [
        "<u>**Question 2.2.4**:</u> <br> FIRST model: predict on TRAIN/TEST, then print Test Accuracy, Test Recall, Test F1.\n",
        "If our goal is to catch failures, which metric should we prioritize?\n",
        "\n",
        "*Help: The .predict() function should be used on the feature of the test set (X_test)*. [page](https://scikit-learn.org/stable/getting_started.html)\n",
        "\n",
        "accuracy_score(), recall_score(), f1_score()\n",
        "find all metrics here: [page](https://scikit-learn.org/stable/api/sklearn.metrics.html)\n",
        "\n",
        "\n",
        "\n"
      ]
    },
    {
      "cell_type": "code",
      "execution_count": 25,
      "metadata": {
        "colab": {
          "base_uri": "https://localhost:8080/"
        },
        "execution": {
          "iopub.execute_input": "2025-08-20T15:12:46.224309Z",
          "iopub.status.busy": "2025-08-20T15:12:46.224039Z",
          "iopub.status.idle": "2025-08-20T15:12:46.250070Z",
          "shell.execute_reply": "2025-08-20T15:12:46.249187Z",
          "shell.execute_reply.started": "2025-08-20T15:12:46.224283Z"
        },
        "id": "JuA_hW813Erz",
        "outputId": "e7fa6e0b-8e0f-46b0-cc54-820c2a791029",
        "trusted": true
      },
      "outputs": [
        {
          "output_type": "stream",
          "name": "stdout",
          "text": [
            "Generating predictions with the Gradient Boosting Classifier Model...\n",
            "Predictions generated.\n",
            "\n",
            "--- Gradient Boosting Classifier Model - Test Set Performance ---\n",
            "Test Accuracy: 0.9684\n",
            "Test Recall:   0.4577\n",
            "Test F1-Score: 0.5262\n"
          ]
        }
      ],
      "source": [
        "# --- 1. Predict on TRAIN and TEST sets using the Gradient Boosting Classifier Model ---\n",
        "print(\"Generating predictions with the Gradient Boosting Classifier Model...\")\n",
        "y_train_pred_grad_boost = grad_boost.predict(X_train_scaled)\n",
        "y_test_pred_grad_boost = grad_boost.predict(X_test_scaled)\n",
        "print(\"Predictions generated.\")\n",
        "\n",
        "# --- 2. Calculate and Print Test Metrics ---\n",
        "# Calculate the metrics for the TEST set.\n",
        "test_accuracy = accuracy_score(y_test, y_test_pred_grad_boost)\n",
        "test_recall = recall_score(y_test, y_test_pred_grad_boost)\n",
        "test_f1 = f1_score(y_test, y_test_pred_grad_boost)\n",
        "\n",
        "print(\"\\n--- Gradient Boosting Classifier Model - Test Set Performance ---\")\n",
        "print(f\"Test Accuracy: {test_accuracy:.4f}\")\n",
        "print(f\"Test Recall:   {test_recall:.4f}\")\n",
        "print(f\"Test F1-Score: {test_f1:.4f}\")"
      ]
    },
    {
      "cell_type": "markdown",
      "metadata": {
        "id": "XfJNZewTZR93"
      },
      "source": [
        "<u>**Question 2.2.5**:</u> <br> Repeat for the SECOND model."
      ]
    },
    {
      "cell_type": "code",
      "execution_count": 26,
      "metadata": {
        "colab": {
          "base_uri": "https://localhost:8080/"
        },
        "execution": {
          "iopub.execute_input": "2025-08-20T15:12:48.174734Z",
          "iopub.status.busy": "2025-08-20T15:12:48.174078Z",
          "iopub.status.idle": "2025-08-20T15:12:55.466332Z",
          "shell.execute_reply": "2025-08-20T15:12:55.465441Z",
          "shell.execute_reply.started": "2025-08-20T15:12:48.174688Z"
        },
        "id": "B3VOM8lK3Erz",
        "outputId": "d524cea0-0135-41e9-ecc4-d73ffd31f854",
        "trusted": true
      },
      "outputs": [
        {
          "output_type": "stream",
          "name": "stdout",
          "text": [
            "Generating predictions with the K-NN model...\n",
            "Predictions generated.\n",
            "\n",
            "--- K-NN - Test Set Performance ---\n",
            "Test Accuracy: 0.9640\n",
            "Test Recall:   0.4230\n",
            "Test F1-Score: 0.4733\n"
          ]
        }
      ],
      "source": [
        "# --- 1. Predict on TRAIN and TEST sets using the K-NN model ---\n",
        "print(\"Generating predictions with the K-NN model...\")\n",
        "y_train_pred_knn = knn.predict(X_train_scaled)\n",
        "y_test_pred_knn = knn.predict(X_test_scaled)\n",
        "print(\"Predictions generated.\")\n",
        "\n",
        "# --- 2. Calculate and Print Test Metrics ---\n",
        "# Calculate the metrics for the TEST set.\n",
        "test_accuracy_knn = accuracy_score(y_test, y_test_pred_knn)\n",
        "test_recall_knn = recall_score(y_test, y_test_pred_knn)\n",
        "test_f1_knn = f1_score(y_test, y_test_pred_knn)\n",
        "\n",
        "print(\"\\n--- K-NN - Test Set Performance ---\")\n",
        "print(f\"Test Accuracy: {test_accuracy_knn:.4f}\")\n",
        "print(f\"Test Recall:   {test_recall_knn:.4f}\")\n",
        "print(f\"Test F1-Score: {test_f1_knn:.4f}\")"
      ]
    },
    {
      "cell_type": "markdown",
      "metadata": {
        "id": "MNr4ou0dZMMd"
      },
      "source": [
        "<u>**Question 2.2.6**:</u> <br> Repeat for the THIRD model."
      ]
    },
    {
      "cell_type": "code",
      "execution_count": 27,
      "metadata": {
        "colab": {
          "base_uri": "https://localhost:8080/"
        },
        "execution": {
          "iopub.execute_input": "2025-08-20T15:12:59.322474Z",
          "iopub.status.busy": "2025-08-20T15:12:59.322155Z",
          "iopub.status.idle": "2025-08-20T15:12:59.648561Z",
          "shell.execute_reply": "2025-08-20T15:12:59.647585Z",
          "shell.execute_reply.started": "2025-08-20T15:12:59.322442Z"
        },
        "id": "y5QhDE6a3Erz",
        "outputId": "a48a7850-e7df-41e3-dbce-2310d006dc1d",
        "trusted": true
      },
      "outputs": [
        {
          "output_type": "stream",
          "name": "stdout",
          "text": [
            "Generating predictions with the Random Forest model...\n",
            "Predictions generated.\n",
            "\n",
            "--- Random Forest - Test Set Performance ---\n",
            "Test Accuracy: 0.9690\n",
            "Test Recall:   0.3948\n",
            "Test F1-Score: 0.4939\n"
          ]
        }
      ],
      "source": [
        "# --- 1. Predict on TRAIN and TEST sets using the Random Forest model ---\n",
        "print(\"Generating predictions with the Random Forest model...\")\n",
        "y_train_pred_rf = random_forest.predict(X_train_scaled)\n",
        "y_test_pred_rf = random_forest.predict(X_test_scaled)\n",
        "print(\"Predictions generated.\")\n",
        "\n",
        "# --- 2. Calculate and Print Test Metrics ---\n",
        "# Calculate the metrics for the TEST set.\n",
        "test_accuracy_rf = accuracy_score(y_test, y_test_pred_rf)\n",
        "test_recall_rf = recall_score(y_test, y_test_pred_rf)\n",
        "test_f1_rf = f1_score(y_test, y_test_pred_rf)\n",
        "\n",
        "print(\"\\n--- Random Forest - Test Set Performance ---\")\n",
        "print(f\"Test Accuracy: {test_accuracy_rf:.4f}\")\n",
        "print(f\"Test Recall:   {test_recall_rf:.4f}\")\n",
        "print(f\"Test F1-Score: {test_f1_rf:.4f}\")"
      ]
    },
    {
      "cell_type": "markdown",
      "metadata": {
        "id": "san3ALWru88p"
      },
      "source": [
        "You may notice that we emphasize Recall. Recall answers: “of all the true failures, how many did the model catch?” On imbalanced datasets, a model can show high accuracy while still missing many failures (predicting the majority class most of the time). That means lots of false negatives. When the goal is failure detection, Recall is the right metric because it prioritizes catching positives (fewer missed failures), even if that sometimes increases false alarms. Keep in mind there’s a trade-off: higher Recall can lower Precision, so we pick the threshold (or settings) that gives the best compromise for our use case.\n",
        "\n",
        "- If Accuracy is high but Recall is low, we are missing failures (false negatives).\n",
        "- Since the goal is to detect failures, prioritize Recall."
      ]
    },
    {
      "cell_type": "markdown",
      "metadata": {
        "id": "dK3BK80sYlw3"
      },
      "source": [
        "<u>**Question 2.2.7**:</u> <br> Find the best model by TEST Recall among the three and show its TEST confusion matrix.\n",
        "\n",
        "*help: Look at recall_score() and confusion_matrix() [page](https://scikit-learn.org/stable/modules/generated/sklearn.metrics.confusion_matrix.html)*"
      ]
    },
    {
      "cell_type": "code",
      "execution_count": 28,
      "metadata": {
        "colab": {
          "base_uri": "https://localhost:8080/",
          "height": 677
        },
        "execution": {
          "iopub.execute_input": "2025-08-20T15:13:24.158082Z",
          "iopub.status.busy": "2025-08-20T15:13:24.157803Z",
          "iopub.status.idle": "2025-08-20T15:13:24.514796Z",
          "shell.execute_reply": "2025-08-20T15:13:24.513937Z",
          "shell.execute_reply.started": "2025-08-20T15:13:24.158062Z"
        },
        "id": "DOfM9cp13Er5",
        "outputId": "902f121e-0e8f-464a-ee78-65358ae995d4",
        "trusted": true
      },
      "outputs": [
        {
          "output_type": "stream",
          "name": "stdout",
          "text": [
            "--- Model Comparison by Test Recall ---\n",
            "Gradient Boosting Classifier: 0.4577\n",
            "K-Nearest Neighbors: 0.4230\n",
            "Random Forest: 0.3948\n",
            "\n",
            "Best Model by Test Recall: Gradient Boosting Classifier (Recall: 0.4577)\n"
          ]
        },
        {
          "output_type": "display_data",
          "data": {
            "text/plain": [
              "<Figure size 800x600 with 2 Axes>"
            ],
            "image/png": "[encoded data removed]"
          },
          "metadata": {}
        }
      ],
      "source": [
        "# Find the best model by the highest recall score\n",
        "models_performance = {\n",
        "    \"Gradient Boosting Classifier\": test_recall,\n",
        "    \"K-Nearest Neighbors\": test_recall_knn,\n",
        "    \"Random Forest\": test_recall_rf\n",
        "}\n",
        "best_model_name=max(models_performance,key=models_performance.get)\n",
        "best_model_recall = models_performance[best_model_name]\n",
        "print(\"--- Model Comparison by Test Recall ---\")\n",
        "for model, recall in models_performance.items():\n",
        "    print(f\"{model}: {recall:.4f}\")\n",
        "\n",
        "print(f\"\\nBest Model by Test Recall: {best_model_name} (Recall: {best_model_recall:.4f})\")\n",
        "# Show the Confusion Matrix for the Best Model\n",
        "if best_model_name == \"Random Forest\":\n",
        "    best_model_predictions = y_test_pred_rf\n",
        "elif best_model_name == \"K-Nearest Neighbors\":\n",
        "    best_model_predictions = y_test_pred_knn\n",
        "else:\n",
        "    best_model_predictions = y_test_pred_grad_boost\n",
        "# Generate the confusion matrix\n",
        "cm = confusion_matrix(y_test, best_model_predictions)\n",
        "\n",
        "# Plot the confusion matrix for better visualization\n",
        "plt.figure(figsize=(8, 6))\n",
        "sns.heatmap(cm, annot=True, fmt='d', cmap='Blues',\n",
        "            xticklabels=['Predicted Non-Failure', 'Predicted Failure'],\n",
        "            yticklabels=['Actual Non-Failure', 'Actual Failure'])\n",
        "plt.title(f'Confusion Matrix for {best_model_name}')\n",
        "plt.ylabel('Actual Label')\n",
        "plt.xlabel('Predicted Label')\n",
        "plt.show()"
      ]
    },
    {
      "cell_type": "markdown",
      "metadata": {
        "id": "3HOmM2SuYbzW"
      },
      "source": [
        "<u>**Question 2.2.8**:</u> <br> Plot ROC and Precision–Recall curves for the BEST model (needs probabilities).\n",
        "*help: Look at roc_curve() [page](https://scikit-learn.org/stable/modules/generated/sklearn.metrics.roc_curve.html) and precision_recall_curve() [page](https://scikit-learn.org/stable/modules/generated/sklearn.metrics.precision_recall_curve.html)*"
      ]
    },
    {
      "cell_type": "code",
      "execution_count": 29,
      "metadata": {
        "colab": {
          "base_uri": "https://localhost:8080/",
          "height": 601
        },
        "execution": {
          "iopub.execute_input": "2025-08-20T15:15:08.630792Z",
          "iopub.status.busy": "2025-08-20T15:15:08.630371Z",
          "iopub.status.idle": "2025-08-20T15:15:12.046800Z",
          "shell.execute_reply": "2025-08-20T15:15:12.045930Z",
          "shell.execute_reply.started": "2025-08-20T15:15:08.630767Z"
        },
        "id": "zEgdJmHm3Er5",
        "outputId": "7de38a30-3fe6-451d-9015-bf52ae745346",
        "trusted": true
      },
      "outputs": [
        {
          "output_type": "display_data",
          "data": {
            "text/plain": [
              "<Figure size 1600x600 with 2 Axes>"
            ],
            "image/png": "[encoded data removed]"
          },
          "metadata": {}
        }
      ],
      "source": [
        "# Get Predicted Probabilities for the Positive Class\n",
        "# The second column [:, 1] corresponds to the probability of the positive class (Failure=1)\n",
        "if best_model_name == \"Random Forest\":\n",
        "    y_probs_rf = random_forest.predict_proba(X_test_scaled)[:, 1]\n",
        "elif best_model_name == \"K-Nearest Neighbors\":\n",
        "    y_probs_rf = knn.predict_proba(X_test_scaled)[:, 1]\n",
        "else:\n",
        "    y_probs_rf = grad_boost.predict_proba(X_test_scaled)[:, 1]\n",
        "\n",
        "#  Calculate Metrics for ROC Curve\n",
        "fpr, tpr, roc_thresholds = roc_curve(y_test, y_probs_rf)\n",
        "roc_auc = auc(fpr, tpr)\n",
        "\n",
        "#  Calculate Metrics for Precision-Recall Curve\n",
        "precision, recall, pr_thresholds = precision_recall_curve(y_test, y_probs_rf)\n",
        "avg_precision = average_precision_score(y_test, y_probs_rf)\n",
        "\n",
        "#  Plot the Curves\n",
        "# Create a figure with two subplots\n",
        "fig, (ax1, ax2) = plt.subplots(1, 2, figsize=(16, 6))\n",
        "\n",
        "# Plot the ROC Curve\n",
        "ax1.plot(fpr, tpr, color='darkorange', lw=2, label=f'ROC curve (AUC = {roc_auc:.2f})')\n",
        "ax1.plot([0, 1], [0, 1], color='navy', lw=2, linestyle='--', label='No-Skill Classifier')\n",
        "ax1.set_xlim([0.0, 1.0])\n",
        "ax1.set_ylim([0.0, 1.05])\n",
        "ax1.set_xlabel('False Positive Rate')\n",
        "ax1.set_ylabel('True Positive Rate (Recall)')\n",
        "ax1.set_title('Receiver Operating Characteristic (ROC) Curve')\n",
        "ax1.legend(loc=\"lower right\")\n",
        "ax1.grid(True)\n",
        "\n",
        "# Plot the Precision-Recall Curve\n",
        "ax2.plot(recall, precision, color='blue', lw=2, label=f'Precision-Recall curve (AP = {avg_precision:.2f})')\n",
        "ax2.set_xlabel('Recall')\n",
        "ax2.set_ylabel('Precision')\n",
        "ax2.set_ylim([0.0, 1.05])\n",
        "ax2.set_xlim([0.0, 1.0])\n",
        "ax2.set_title('Precision-Recall Curve')\n",
        "ax2.legend(loc=\"lower left\")\n",
        "ax2.grid(True)\n",
        "\n",
        "# Display the plots\n",
        "plt.tight_layout()\n",
        "plt.show()"
      ]
    },
    {
      "cell_type": "markdown",
      "metadata": {
        "id": "tPVN_ZV6YJv8"
      },
      "source": [
        "<u>**Question 2.2.9**:</u> <br> Pick the threshold with the highest Recall. ONLY on the best model (picked above)"
      ]
    },
    {
      "cell_type": "code",
      "execution_count": 30,
      "metadata": {
        "colab": {
          "base_uri": "https://localhost:8080/"
        },
        "execution": {
          "iopub.execute_input": "2025-08-20T15:18:35.993126Z",
          "iopub.status.busy": "2025-08-20T15:18:35.992865Z",
          "iopub.status.idle": "2025-08-20T15:18:36.001140Z",
          "shell.execute_reply": "2025-08-20T15:18:36.000150Z",
          "shell.execute_reply.started": "2025-08-20T15:18:35.993109Z"
        },
        "id": "LBp14o4Y3Er5",
        "outputId": "716e6e8a-1cf0-40a3-c12a-e354191fc471",
        "trusted": true
      },
      "outputs": [
        {
          "output_type": "stream",
          "name": "stdout",
          "text": [
            "--- Optimal Threshold for Best Model (Based on Max Recall and Max Precision among those) ---\n",
            "Best threshold: 0.0472\n",
            "Recall at this threshold: 0.9002\n",
            "Precision at this threshold: 0.2198\n",
            "F1-Score at this threshold: 0.3532\n",
            "\n",
            "Interpretation:\n",
            "This threshold (0.0472) was chosen because it achieves almost the highest possible recall (0.9 * 1.0),\n",
            "In fact without that attenuation factor, we get a max recall of 1 and a very low threshold and precision ; so we get a very low f1_score.\n"
          ]
        }
      ],
      "source": [
        "# Find all indices where recall is maximal\n",
        "# precision, recall, pr_thresholds were calculated in the previous cell (zEgdJmHm3Er5)\n",
        "attenuation = 0.9\n",
        "max_recall = np.max(recall)\n",
        "max_recall_value = max_recall * attenuation # We multiply by that value not to have a recall of 1 which will worsen the f1 score\n",
        "max_recall_indices = np.where(recall >= max_recall_value)[0]\n",
        "\n",
        "# print(recall, pr_thresholds, precision, max_recall_indices, sep=\"\\n\")\n",
        "# Among those, find the index with the highest precision\n",
        "best_index = max_recall_indices[np.argmax(precision[max_recall_indices])]\n",
        "if best_index != 0:\n",
        "  best_threshold = pr_thresholds[best_index -1]\n",
        "else:\n",
        "  best_threshold = 0\n",
        "\n",
        "# Get the corresponding recall and precision\n",
        "best_recall = recall[best_index]\n",
        "best_precision = precision[best_index]\n",
        "\n",
        "\n",
        "# Step 4: Display results\n",
        "print(f\"--- Optimal Threshold for Best Model (Based on Max Recall and Max Precision among those) ---\")\n",
        "print(f\"Best threshold: {best_threshold:.4f}\")\n",
        "print(f\"Recall at this threshold: {best_recall:.4f}\")\n",
        "print(f\"Precision at this threshold: {best_precision:.4f}\")\n",
        "# Calculate F1 Score at this threshold\n",
        "y_pred_thresholded = (y_probs_rf >= best_threshold).astype(int)\n",
        "f1_at_threshold = f1_score(y_test, y_pred_thresholded)\n",
        "print(f\"F1-Score at this threshold: {f1_at_threshold:.4f}\")\n",
        "\n",
        "print(\"\\nInterpretation:\")\n",
        "print(f\"This threshold ({best_threshold:.4f}) was chosen because it achieves almost the highest possible recall ({attenuation} * {max_recall}),\")\n",
        "print(f\"In fact without that attenuation factor, we get a max recall of 1 and a very low threshold and precision ; so we get a very low f1_score.\")"
      ]
    },
    {
      "cell_type": "markdown",
      "metadata": {
        "id": "8pkz20L9m-Yp"
      },
      "source": [
        "<u>**Question 2.2.10**:</u> <br> Try GridSearch to favor Recall.\n",
        "\n",
        "*Help: Try GridSearchCV [page](https://scikit-learn.org/stable/modules/generated/sklearn.model_selection.GridSearchCV.html) on the best model you selected (by Recall) to find hyperparameters that improve Recall.<br>\n",
        "Report the best hyperparameters (.best_params_) and the best cross-validated Recall (.best_score_). Then re-fit the tuned model and print the Test Recall.*\n",
        "\n",
        "Notes (keep it simple):\n",
        "Use scoring='recall' in GridSearchCV (we care most about catching failures).\n",
        "Keep the grid tiny (2–3 values per parameter) to avoid long runs; set cv=3.\n",
        "Compare against your baseline Test Recall (before tuning). One line is enough.\n",
        "\n",
        "*(Optional) If you tried different decision thresholds earlier (e.g., 0.4 / 0.5 / 0.6), also report Test Recall using your chosen threshold with the tuned model.*"
      ]
    },
    {
      "cell_type": "code",
      "execution_count": 31,
      "metadata": {
        "colab": {
          "base_uri": "https://localhost:8080/"
        },
        "id": "tT21Aol86cVA",
        "outputId": "9ecc0256-5347-4fc9-e9b6-a99215dafc9e"
      },
      "outputs": [
        {
          "output_type": "stream",
          "name": "stdout",
          "text": [
            "Proportion of 0s and 1s in y_train:\n",
            "RUL_class\n",
            "0    0.802668\n",
            "1    0.197332\n",
            "Name: proportion, dtype: float64\n",
            "Since we have 0.2 of failure and 0.8 of non-failure in our train dataset, \n",
            "we can set a possible class_weight to (0: 1/(2*0.8)=0.625, 1: 1/(2*0.2)=2.5)\n",
            "class_weight: {0: 0.625, 1: 2.5}\n"
          ]
        }
      ],
      "source": [
        "# Examine the proportion of 0s and 1s in y_train and y_test to understand class imbalance\n",
        "train_proportion = y_train.value_counts(normalize=True)\n",
        "\n",
        "print(\"Proportion of 0s and 1s in y_train:\")\n",
        "print(train_proportion)\n",
        "print(f\"Since we have 0.2 of failure and 0.8 of non-failure in our train dataset, \\nwe can set a possible class_weight to (0: 1/(2*0.8)=0.625, 1: 1/(2*0.2)=2.5)\")\n",
        "\n",
        "class_weight = {0: 0.625, 1: 2.5}\n",
        "print(\"class_weight:\", class_weight)"
      ]
    },
    {
      "cell_type": "code",
      "execution_count": 32,
      "metadata": {
        "colab": {
          "base_uri": "https://localhost:8080/"
        },
        "execution": {
          "iopub.execute_input": "2025-08-20T15:21:44.979488Z",
          "iopub.status.busy": "2025-08-20T15:21:44.979181Z",
          "iopub.status.idle": "2025-08-20T15:22:20.204291Z",
          "shell.execute_reply": "2025-08-20T15:22:20.203126Z",
          "shell.execute_reply.started": "2025-08-20T15:21:44.979467Z"
        },
        "id": "TAMrPqRy3Er5",
        "outputId": "13c705e2-f0c8-4402-ce42-0a7bdc3ec541",
        "trusted": true
      },
      "outputs": [
        {
          "output_type": "stream",
          "name": "stdout",
          "text": [
            "Running GridSearchCV to find the best hyperparameters for Recall...\n",
            "GridSearchCV finished.\n",
            "\n",
            "--- GridSearchCV Results ---\n",
            "Best Hyperparameters: {'metric': 'manhattan', 'n_neighbors': 7, 'weights': 'uniform'}\n",
            "Best Cross-Validated Recall: 0.7390\n",
            "\n",
            "--- Performance on Test Set ---\n",
            "Baseline Test Recall (Untuned KNN): 0.4230\n",
            "Tuned Test Recall (GridSearch KNN): 0.4100\n"
          ]
        }
      ],
      "source": [
        "# Case of K-NN\n",
        "\n",
        "# Define a Simple Hyperparameter Grid for KNN\n",
        "param_grid = {\n",
        "    'n_neighbors': [3, 5, 7],\n",
        "    'weights': ['uniform', 'distance'],\n",
        "    'metric': ['minkowski', 'manhattan']\n",
        "} # Doesn't use class_weight\n",
        "\n",
        "# Initialize the base KNN model\n",
        "knn_base = KNeighborsClassifier()\n",
        "\n",
        "# Set up GridSearchCV to find the best model by maximizing recall\n",
        "grid_search = GridSearchCV(estimator=knn_base,\n",
        "                           param_grid=param_grid,\n",
        "                           scoring='recall',\n",
        "                           cv=3,\n",
        "                           n_jobs=-1)\n",
        "\n",
        "print(\"Running GridSearchCV to find the best hyperparameters for Recall...\")\n",
        "# Fit the grid search to the training data\n",
        "grid_search.fit(X_train_scaled, y_train)\n",
        "print(\"GridSearchCV finished.\")\n",
        "\n",
        "# Report the Best Hyperparameters and Scores\n",
        "print(\"\\n--- GridSearchCV Results ---\")\n",
        "print(f\"Best Hyperparameters: {grid_search.best_params_}\")\n",
        "print(f\"Best Cross-Validated Recall: {grid_search.best_score_:.4f}\")\n",
        "\n",
        "# Re-fit the Tuned Model and Evaluate on Test Set\n",
        "best_knn_tuned = grid_search.best_estimator_\n",
        "\n",
        "# Make predictions on the test set with the tuned model\n",
        "y_test_pred_tuned = best_knn_tuned.predict(X_test_scaled)\n",
        "tuned_test_recall = recall_score(y_test, y_test_pred_tuned)\n",
        "\n",
        "# Compare with Baseline\n",
        "baseline_test_recall = test_recall_knn\n",
        "\n",
        "print(\"\\n--- Performance on Test Set ---\")\n",
        "print(f\"Baseline Test Recall (Untuned KNN): {baseline_test_recall:.4f}\")\n",
        "print(f\"Tuned Test Recall (GridSearch KNN): {tuned_test_recall:.4f}\")"
      ]
    },
    {
      "cell_type": "code",
      "execution_count": 33,
      "metadata": {
        "colab": {
          "base_uri": "https://localhost:8080/"
        },
        "execution": {
          "iopub.execute_input": "2025-08-20T15:26:16.129335Z",
          "iopub.status.busy": "2025-08-20T15:26:16.129069Z",
          "iopub.status.idle": "2025-08-20T15:27:03.000983Z",
          "shell.execute_reply": "2025-08-20T15:27:03.000019Z",
          "shell.execute_reply.started": "2025-08-20T15:26:16.129317Z"
        },
        "id": "W6eEkkOXxd1p",
        "outputId": "0e28cd11-6d8f-4fa3-f841-cb1a4edc23f5",
        "trusted": true
      },
      "outputs": [
        {
          "output_type": "stream",
          "name": "stdout",
          "text": [
            "Running GridSearchCV on Random Forest...\n",
            "GridSearchCV finished.\n",
            "\n",
            "Best RF Hyperparameters: {'class_weight': 'balanced', 'max_depth': 10, 'min_samples_leaf': 2, 'n_estimators': 100}\n",
            "\n",
            "Baseline Random Forest Test Recall: 0.3948\n",
            "Tuned Random Forest Test Recall: 0.6421\n"
          ]
        }
      ],
      "source": [
        "# Case of Random Forest\n",
        "\n",
        "# We will try to tune the Random Forest to see if we can get it to outperform the K-NN\n",
        "# Define a Grid for Random Forest\n",
        "rf_param_grid = {\n",
        "    'n_estimators': [100, 200],\n",
        "    'max_depth': [10, 20, None],\n",
        "    'min_samples_leaf': [1, 2],\n",
        "    'class_weight': ['balanced'],\n",
        "    'class_weight': [None, 'balanced', class_weight]\n",
        "}\n",
        "\n",
        "# Run GridSearchCV on Random Forest\n",
        "rf_base = RandomForestClassifier()\n",
        "rf_grid_search = GridSearchCV(estimator=rf_base,\n",
        "                              param_grid=rf_param_grid,\n",
        "                              scoring='recall',\n",
        "                              cv=3,\n",
        "                              n_jobs=-1)\n",
        "\n",
        "print(\"Running GridSearchCV on Random Forest...\")\n",
        "rf_grid_search.fit(X_train_scaled, y_train)\n",
        "print(\"GridSearchCV finished.\")\n",
        "\n",
        "# Report Results\n",
        "print(f\"\\nBest RF Hyperparameters: {rf_grid_search.best_params_}\")\n",
        "best_rf_tuned = rf_grid_search.best_estimator_\n",
        "y_test_pred_rf_tuned = best_rf_tuned.predict(X_test_scaled)\n",
        "tuned_rf_test_recall = recall_score(y_test, y_test_pred_rf_tuned)\n",
        "\n",
        "print(f\"\\nBaseline Random Forest Test Recall: {test_recall_rf:.4f}\")\n",
        "print(f\"Tuned Random Forest Test Recall: {tuned_rf_test_recall:.4f}\")"
      ]
    },
    {
      "cell_type": "code",
      "execution_count": 34,
      "metadata": {
        "colab": {
          "base_uri": "https://localhost:8080/"
        },
        "id": "FSAFzRNdXTyz",
        "outputId": "66ff0ddc-8208-4a57-c4c1-f2ec3300b326"
      },
      "outputs": [
        {
          "output_type": "stream",
          "name": "stdout",
          "text": [
            "Running GridSearchCV on Gradient Boosting Classifier model...\n",
            "Fitting 3 folds for each of 16 candidates, totalling 48 fits\n",
            "GridSearchCV finished.\n",
            "\n",
            "--- Gradient Boosting Classifier GridSearchCV Results ---\n",
            "Best Hyperparameters: {'learning_rate': 0.1, 'max_depth': 3, 'n_estimators': 200, 'subsample': 0.8}\n",
            "Best Cross-Validated Recall: 0.7716\n",
            "\n",
            "--- Performance on Test Set ---\n",
            "Baseline Test Recall (Untuned Gradient Boosting): 0.4577\n",
            "Tuned Test Recall (GridSearch Gradient Boosting): 0.4599\n"
          ]
        }
      ],
      "source": [
        "# Case of Gradient Boosting Classifier\n",
        "\n",
        "# Define a Simple Hyperparameter Grid for Gradient Boosting Classifier\n",
        "gb_param_grid = {\n",
        "    'n_estimators': [100, 200],\n",
        "    'learning_rate': [0.05, 0.1],\n",
        "    'max_depth': [3, 5],\n",
        "    'subsample': [0.8, 1.0]\n",
        "}\n",
        "\n",
        "# Set up and Run GridSearchCV\n",
        "# Initialize the base Gradient Boosting Classifier model\n",
        "gb_base = GradientBoostingClassifier()\n",
        "\n",
        "# Set up GridSearchCV to find the best model by maximizing recall\n",
        "grid_search_gb = GridSearchCV(estimator=gb_base,\n",
        "                              param_grid=gb_param_grid,\n",
        "                              scoring='recall',\n",
        "                              cv=3,\n",
        "                              n_jobs=-1,\n",
        "                              verbose=1) # shows progress\n",
        "\n",
        "print(\"Running GridSearchCV on Gradient Boosting Classifier model...\")\n",
        "grid_search_gb.fit(X_train_scaled, y_train)\n",
        "print(\"GridSearchCV finished.\")\n",
        "\n",
        "# Report the Best Hyperparameters and Scores\n",
        "print(\"\\n--- Gradient Boosting Classifier GridSearchCV Results ---\")\n",
        "print(f\"Best Hyperparameters: {grid_search_gb.best_params_}\")\n",
        "print(f\"Best Cross-Validated Recall: {grid_search_gb.best_score_:.4f}\")\n",
        "\n",
        "# Re-fit the Tuned Model and Evaluate on Test Set\n",
        "best_gb_tuned = grid_search_gb.best_estimator_\n",
        "\n",
        "# Make predictions on the test set with the tuned model\n",
        "y_test_pred_gb_tuned = best_gb_tuned.predict(X_test_scaled)\n",
        "tuned_gb_test_recall = recall_score(y_test, y_test_pred_gb_tuned)\n",
        "\n",
        "# Compare with Baseline\n",
        "# Assuming 'test_recall' is the baseline recall for the untuned Gradient Boosting model\n",
        "baseline_gb_recall = test_recall\n",
        "\n",
        "print(\"\\n--- Performance on Test Set ---\")\n",
        "print(f\"Baseline Test Recall (Untuned Gradient Boosting): {baseline_gb_recall:.4f}\")\n",
        "print(f\"Tuned Test Recall (GridSearch Gradient Boosting): {tuned_gb_test_recall:.4f}\")"
      ]
    },
    {
      "cell_type": "markdown",
      "metadata": {
        "id": "b7d912f0"
      },
      "source": [
        "Based on the Grid Search results focusing on maximizing recall, let's analyze the performance of the tuned Gradient Boosting, K-NN, and Random Forest models on the test set:\n",
        "\n",
        "*   **Tuned Gradient Boosting Classifier:** Achieved a Test Recall of **0.4577**. The Grid Search cross-validated recall was 0.7722.\n",
        "*   **Tuned K-Nearest Neighbors:** Achieved a Test Recall of **0.41**. The Grid Search cross-validated recall was 0.7390.\n",
        "*   **Tuned Random Forest:** Achieved a Test Recall of **0.6508**.\n",
        "\n",
        "Comparing the Test Recall scores:\n",
        "\n",
        "The tuned Random Forest model achieved the highest test recall at **0.6508**, followed by the tuned Gradient Boosting Classifier at **0.4577**, and then the tuned K-Nearest Neighbors at **0.4100**.\n",
        "\n",
        "Therefore, based on the goal of prioritizing recall to catch failures, the **Tuned Random Forest** model is the best performing model among the three after applying Grid Search with the specified parameter grids."
      ]
    },
    {
      "cell_type": "code",
      "execution_count": 35,
      "metadata": {
        "colab": {
          "base_uri": "https://localhost:8080/"
        },
        "execution": {
          "iopub.execute_input": "2025-08-20T15:43:05.047880Z",
          "iopub.status.busy": "2025-08-20T15:43:05.047591Z",
          "iopub.status.idle": "2025-08-20T15:43:18.299286Z",
          "shell.execute_reply": "2025-08-20T15:43:18.298433Z",
          "shell.execute_reply.started": "2025-08-20T15:43:05.047860Z"
        },
        "id": "iFH9AFUyxd1q",
        "outputId": "b19f53f9-53d0-485e-fd8b-2937315f7df7",
        "trusted": true
      },
      "outputs": [
        {
          "output_type": "stream",
          "name": "stdout",
          "text": [
            "Training XGBoost model...\n",
            "\n",
            "--- Model Performance Comparison ---\n",
            "Tuned Random Forest Test Recall: 0.6421\n",
            "Baseline XGBoost Test Recall: 0.5119\n",
            "Running GridSearchCV on XGBoost model...\n",
            "Fitting 3 folds for each of 24 candidates, totalling 72 fits\n",
            "GridSearchCV finished.\n",
            "\n",
            "--- XGBoost GridSearchCV Results ---\n",
            "Best Hyperparameters: {'learning_rate': 0.008, 'max_depth': 3, 'n_estimators': 190, 'subsample': 1.0}\n",
            "Best Cross-Validated Recall: 0.9160\n",
            "\n",
            "--- Performance on Test Set ---\n",
            "Baseline Test Recall (Untuned XGBoost): 0.5119\n",
            "Tuned Test Recall (GridSearch XGBoost): 0.7701\n"
          ]
        }
      ],
      "source": [
        "# Case of : XGB # We want to see if we can outperform the previous results\n",
        "import xgboost as xgb\n",
        "# Initialize and Train the XGBoost Classifier\n",
        "# scale_pos_weight is the XGBoost equivalent of class_weight='balanced'\n",
        "# It's calculated as: (count of negative class) / (count of positive class)\n",
        "# This tells the model to pay much more attention to the rare 'failure' class.\n",
        "scale_pos_weight = (y_train == 0).sum() / (y_train == 1).sum()\n",
        "\n",
        "xgb_model = xgb.XGBClassifier(objective='binary:logistic',\n",
        "                              eval_metric='logloss',\n",
        "                              scale_pos_weight=scale_pos_weight,\n",
        "                              random_state=42)\n",
        "\n",
        "# XGB doesn't take \"category\" inputs\n",
        "X_train_xgb= X_train_scaled.copy()\n",
        "X_test_xgb = X_test_scaled.copy()\n",
        "X_train_xgb['HPC outlet temperature (°C)'] = X_train_scaled['HPC outlet temperature (°C)'].astype(int)\n",
        "X_test_xgb['HPC outlet temperature (°C)'] = X_test_scaled['HPC outlet temperature (°C)'].astype(int)\n",
        "\n",
        "print(\"Training XGBoost model...\")\n",
        "xgb_model.fit(X_train_xgb, y_train)\n",
        "\n",
        "#  Evaluate on the Test Set\n",
        "y_test_pred_xgb = xgb_model.predict(X_test_xgb)\n",
        "xgb_test_recall = recall_score(y_test, y_test_pred_xgb)\n",
        "\n",
        "print(\"\\n--- Model Performance Comparison ---\")\n",
        "print(f\"Tuned Random Forest Test Recall: {tuned_rf_test_recall:.4f}\")\n",
        "print(f\"Baseline XGBoost Test Recall: {xgb_test_recall:.4f}\")\n",
        "xgb_param_grid = {\n",
        "    'n_estimators': [190, 200],\n",
        "    'max_depth': [3, 4],\n",
        "    'learning_rate': [0.007, 0.008, 0.009],\n",
        "    'subsample': [0.9, 1.0] # Fraction of samples to be used for fitting each tree\n",
        "}\n",
        "\n",
        "# Set up and Run GridSearchCV\n",
        "\n",
        "# Initialize the base XGBoost model\n",
        "xgb_base = xgb.XGBClassifier(objective='binary:logistic',\n",
        "                             eval_metric='logloss',\n",
        "                             scale_pos_weight=scale_pos_weight,\n",
        "                             random_state=42)\n",
        "\n",
        "# Set up GridSearchCV to maximize recall\n",
        "grid_search_xgb = GridSearchCV(estimator=xgb_base,\n",
        "                               param_grid=xgb_param_grid,\n",
        "                               scoring='recall',\n",
        "                               cv=3,\n",
        "                               n_jobs=-1,\n",
        "                               verbose=1)\n",
        "\n",
        "print(\"Running GridSearchCV on XGBoost model...\")\n",
        "grid_search_xgb.fit(X_train_xgb, y_train)\n",
        "print(\"GridSearchCV finished.\")\n",
        "\n",
        "# Report the Best Hyperparameters and Scores\n",
        "print(\"\\n--- XGBoost GridSearchCV Results ---\")\n",
        "print(f\"Best Hyperparameters: {grid_search_xgb.best_params_}\")\n",
        "print(f\"Best Cross-Validated Recall: {grid_search_xgb.best_score_:.4f}\")\n",
        "\n",
        "best_xgb_tuned = grid_search_xgb.best_estimator_\n",
        "y_test_pred_xgb_tuned = best_xgb_tuned.predict(X_test_xgb)\n",
        "tuned_xgb_test_recall = recall_score(y_test, y_test_pred_xgb_tuned)\n",
        "\n",
        "# Compare with Baseline\n",
        "baseline_xgb_recall = xgb_test_recall\n",
        "\n",
        "print(\"\\n--- Performance on Test Set ---\")\n",
        "print(f\"Baseline Test Recall (Untuned XGBoost): {baseline_xgb_recall:.4f}\")\n",
        "print(f\"Tuned Test Recall (GridSearch XGBoost): {tuned_xgb_test_recall:.4f}\")"
      ]
    },
    {
      "cell_type": "markdown",
      "metadata": {
        "id": "8LMX_n5ME1XZ"
      },
      "source": [
        "Let's find a convenient threshold with this new tuned model"
      ]
    },
    {
      "cell_type": "code",
      "execution_count": 36,
      "metadata": {
        "colab": {
          "base_uri": "https://localhost:8080/"
        },
        "id": "pGiQahdNDzU2",
        "outputId": "4d3a0250-1f92-4cbe-9b8b-ca80884391bf"
      },
      "outputs": [
        {
          "output_type": "stream",
          "name": "stdout",
          "text": [
            "--- Optimal Threshold for Best Model (Based on Max Recall and Max Precision among those) ---\n",
            "Best threshold: 0.4789\n",
            "Recall at this threshold: 0.8004\n",
            "Precision at this threshold: 0.3364\n",
            "F1-Score at this threshold: 0.4734\n",
            "\n",
            "Interpretation:\n",
            "This threshold (0.4789) was chosen because it achieves almost the highest possible recall (0.8 * 1.0),\n",
            "In fact without that attenuation factor, we get a max recall of 1 and a very low threshold and precision ; so we get a very low accuracy.\n"
          ]
        }
      ],
      "source": [
        "# Find all indices where recall is maximal\n",
        "# Re-evaluate precision, recall, and thresholds with the tuned XGBoost model\n",
        "y_probs_xgb_tuned = best_xgb_tuned.predict_proba(X_test_xgb)[:, 1]\n",
        "precision, recall, pr_thresholds = precision_recall_curve(y_test, y_probs_xgb_tuned)\n",
        "\n",
        "attenuation = 0.8\n",
        "max_recall = np.max(recall)\n",
        "max_recall_value = max_recall * attenuation # We multiply by that value not to have a recall of 1 which will worsen the f1 score\n",
        "max_recall_indices = np.where(recall >= max_recall_value)[0]\n",
        "\n",
        "# print(recall, pr_thresholds, precision, max_recall_indices, sep=\"\\n\")\n",
        "# Among those, find the index with the highest precision\n",
        "best_index = max_recall_indices[np.argmax(precision[max_recall_indices])]\n",
        "if best_index != 0:\n",
        "  best_threshold = pr_thresholds[best_index -1]\n",
        "else:\n",
        "  best_threshold = 0\n",
        "\n",
        "# Get the corresponding recall and precision\n",
        "best_recall = recall[best_index]\n",
        "best_precision = precision[best_index]\n",
        "\n",
        "print(f\"--- Optimal Threshold for Best Model (Based on Max Recall and Max Precision among those) ---\")\n",
        "print(f\"Best threshold: {best_threshold:.4f}\")\n",
        "print(f\"Recall at this threshold: {best_recall:.4f}\")\n",
        "print(f\"Precision at this threshold: {best_precision:.4f}\")\n",
        "# Calculate F1 Score at this threshold\n",
        "y_pred_thresholded = (y_probs_xgb_tuned >= best_threshold).astype(int)\n",
        "f1_at_threshold = f1_score(y_test, y_pred_thresholded)\n",
        "print(f\"F1-Score at this threshold: {f1_at_threshold:.4f}\")\n",
        "\n",
        "\n",
        "print(\"\\nInterpretation:\")\n",
        "print(f\"This threshold ({best_threshold:.4f}) was chosen because it achieves almost the highest possible recall ({attenuation} * {max_recall}),\")\n",
        "print(f\"In fact without that attenuation factor, we get a max recall of 1 and a very low threshold and precision ; so we get a very low accuracy.\")"
      ]
    },
    {
      "cell_type": "markdown",
      "metadata": {
        "id": "srNRwmmdaBgi"
      },
      "source": []
    },
    {
      "cell_type": "markdown",
      "metadata": {
        "id": "21bce817"
      },
      "source": [
        "Here is a summary of the Test Recall scores for all trained models:\n",
        "\n",
        "*   **Untuned Gradient Boosting:** 0.4577\n",
        "*   **Tuned Gradient Boosting:** 0.4577\n",
        "*   **Untuned K-NN:** 0.4230\n",
        "*   **Tuned K-NN:** 0.4100\n",
        "*   **Untuned Random Forest:** 0.3948\n",
        "*   **Tuned Random Forest:** **0.6508**\n",
        "*   **Untuned XGBoost:** 0.5119\n",
        "*   **Tuned XGBoost:** **0.7701**\n",
        "\n",
        "**Conclusion:**\n",
        "\n",
        "Prioritizing Recall to catch failures, the **Tuned XGBoost** model performed best on the test set with a Recall of **0.7701**. The **Tuned Random Forest** was the second best with a Recall of **0.6508**."
      ]
    },
    {
      "cell_type": "markdown",
      "metadata": {
        "id": "Wbq6nxzYwFJa"
      },
      "source": [
        "## **3. Explainability with shap**\n",
        "\n",
        "The `shap` library (SHapley Additive exPlanations) is a Python library used for explaining the output of machine learning models. <br> It provides a unified framework for interpreting complex models and understanding the contributions of individual features to model predictions. <br>\n",
        "\n",
        "Shap is particularly useful for understanding black-box models like boosting, random forests, and deep neural networks, among others. <br>\n",
        "It can also be used with any classification model."
      ]
    },
    {
      "cell_type": "markdown",
      "metadata": {
        "id": "m8XJ_7cpwFJa"
      },
      "source": [
        "**Let's install and import the shap library.**"
      ]
    },
    {
      "cell_type": "code",
      "execution_count": 37,
      "metadata": {
        "colab": {
          "base_uri": "https://localhost:8080/"
        },
        "id": "SRYM5HygwFJa",
        "outputId": "24ca8e21-f94e-41f0-fb91-9be89fe4a088",
        "scrolled": true
      },
      "outputs": [
        {
          "output_type": "stream",
          "name": "stdout",
          "text": [
            "Requirement already satisfied: shap in /usr/local/lib/python3.12/dist-packages (0.48.0)\n",
            "Requirement already satisfied: numpy in /usr/local/lib/python3.12/dist-packages (from shap) (2.0.2)\n",
            "Requirement already satisfied: scipy in /usr/local/lib/python3.12/dist-packages (from shap) (1.16.1)\n",
            "Requirement already satisfied: scikit-learn in /usr/local/lib/python3.12/dist-packages (from shap) (1.6.1)\n",
            "Requirement already satisfied: pandas in /usr/local/lib/python3.12/dist-packages (from shap) (2.2.2)\n",
            "Requirement already satisfied: tqdm>=4.27.0 in /usr/local/lib/python3.12/dist-packages (from shap) (4.67.1)\n",
            "Requirement already satisfied: packaging>20.9 in /usr/local/lib/python3.12/dist-packages (from shap) (25.0)\n",
            "Requirement already satisfied: slicer==0.0.8 in /usr/local/lib/python3.12/dist-packages (from shap) (0.0.8)\n",
            "Requirement already satisfied: numba>=0.54 in /usr/local/lib/python3.12/dist-packages (from shap) (0.60.0)\n",
            "Requirement already satisfied: cloudpickle in /usr/local/lib/python3.12/dist-packages (from shap) (3.1.1)\n",
            "Requirement already satisfied: typing-extensions in /usr/local/lib/python3.12/dist-packages (from shap) (4.14.1)\n",
            "Requirement already satisfied: llvmlite<0.44,>=0.43.0dev0 in /usr/local/lib/python3.12/dist-packages (from numba>=0.54->shap) (0.43.0)\n",
            "Requirement already satisfied: python-dateutil>=2.8.2 in /usr/local/lib/python3.12/dist-packages (from pandas->shap) (2.9.0.post0)\n",
            "Requirement already satisfied: pytz>=2020.1 in /usr/local/lib/python3.12/dist-packages (from pandas->shap) (2025.2)\n",
            "Requirement already satisfied: tzdata>=2022.7 in /usr/local/lib/python3.12/dist-packages (from pandas->shap) (2025.2)\n",
            "Requirement already satisfied: joblib>=1.2.0 in /usr/local/lib/python3.12/dist-packages (from scikit-learn->shap) (1.5.1)\n",
            "Requirement already satisfied: threadpoolctl>=3.1.0 in /usr/local/lib/python3.12/dist-packages (from scikit-learn->shap) (3.6.0)\n",
            "Requirement already satisfied: six>=1.5 in /usr/local/lib/python3.12/dist-packages (from python-dateutil>=2.8.2->pandas->shap) (1.17.0)\n"
          ]
        }
      ],
      "source": [
        "!pip install shap"
      ]
    },
    {
      "cell_type": "code",
      "execution_count": 38,
      "metadata": {
        "id": "_oe1lXgYwFJa"
      },
      "outputs": [],
      "source": [
        "import shap"
      ]
    },
    {
      "cell_type": "markdown",
      "metadata": {
        "id": "XZ1pnBXJwFJb"
      },
      "source": [
        "Shap is very heavy and takes a long time to compute. <br>\n",
        "To facilitate execution and reduce computing time, you can work on the **first 100 rows only**.\n",
        "\n",
        "*Note: You can use either the train features (X_train) or the test features (X_test) to compute shap values*"
      ]
    },
    {
      "cell_type": "code",
      "execution_count": 39,
      "metadata": {
        "colab": {
          "base_uri": "https://localhost:8080/"
        },
        "id": "_TTiLTa4wyRT",
        "outputId": "4aa5d720-453a-4f4b-9723-dda0a3819dce",
        "tags": []
      },
      "outputs": [
        {
          "output_type": "stream",
          "name": "stdout",
          "text": [
            "<class 'pandas.core.frame.DataFrame'>\n",
            "RangeIndex: 100 entries, 0 to 99\n",
            "Data columns (total 12 columns):\n",
            " #   Column                         Non-Null Count  Dtype  \n",
            "---  ------                         --------------  -----  \n",
            " 0   engine_unit_number             100 non-null    float64\n",
            " 1   time_cycles                    100 non-null    float64\n",
            " 2   LPC outlet temperature (°C)    100 non-null    float64\n",
            " 3   HPC outlet temperature (°C)    100 non-null    int64  \n",
            " 4   LPT outlet temperature (°C)    100 non-null    float64\n",
            " 5   HPC outlet pressure (bar)      100 non-null    float64\n",
            " 6   Physical core speed (rpm)      100 non-null    float64\n",
            " 7   Fuel flow / Ps30 (kg/s/bar)    100 non-null    float64\n",
            " 8   Corrected fan speed (rpm)      100 non-null    float64\n",
            " 9   Bypass ratio (dimensionless)   100 non-null    float64\n",
            " 10  Bleed enthalpy (kJ/kg)         100 non-null    float64\n",
            " 11  HPT coolant bleed flow (kg/s)  100 non-null    float64\n",
            "dtypes: float64(11), int64(1)\n",
            "memory usage: 9.5 KB\n"
          ]
        }
      ],
      "source": [
        "df_shap = X_train_xgb.iloc[:100]\n",
        "df_shap.info()"
      ]
    },
    {
      "cell_type": "markdown",
      "metadata": {
        "id": "dDpCt-2owFJb"
      },
      "source": [
        "<u>**Question 3.1**:</u> <br>\n",
        "**Create an object `explainer` that can compute shap values.** <br>\n",
        "\n",
        "*<u>Help</u>: You can use `shap.Explainer` for any trained classification model as input.* <br>\n",
        "*For tree based models, you can use `shap.TreeExplainer`*.\n"
      ]
    },
    {
      "cell_type": "code",
      "execution_count": 40,
      "metadata": {
        "colab": {
          "base_uri": "https://localhost:8080/"
        },
        "id": "zEbRO7Bk3Er6",
        "outputId": "415d47d6-5d6d-406b-d5dc-b462127fb84e"
      },
      "outputs": [
        {
          "output_type": "stream",
          "name": "stdout",
          "text": [
            "SHAP explainer object created.\n"
          ]
        }
      ],
      "source": [
        "# Create a SHAP explainer object for the best performing model (tuned XGBoost)\n",
        "# Use TreeExplainer for tree-based models like XGBoost\n",
        "explainer = shap.TreeExplainer(best_xgb_tuned)\n",
        "\n",
        "print(\"SHAP explainer object created.\")"
      ]
    },
    {
      "cell_type": "markdown",
      "metadata": {
        "id": "NXwDULXbwFJb"
      },
      "source": [
        "**Now, compute the shap values of a model with `explainer.shap_values`.** <br>\n",
        "If it takes too much time, you can reduce to 100-500 values."
      ]
    },
    {
      "cell_type": "code",
      "execution_count": 41,
      "metadata": {
        "colab": {
          "base_uri": "https://localhost:8080/"
        },
        "id": "dY54i16w3Er6",
        "outputId": "1c67f62e-5596-42d6-b470-5fed4f4cadf2"
      },
      "outputs": [
        {
          "output_type": "stream",
          "name": "stdout",
          "text": [
            "SHAP values computed.\n"
          ]
        }
      ],
      "source": [
        "# Compute SHAP values for the first 100 rows of the scaled training data.\n",
        "# The explainer object was created for the tuned XGBoost model.\n",
        "shap_values = explainer.shap_values(df_shap)\n",
        "\n",
        "print(\"SHAP values computed.\")"
      ]
    },
    {
      "cell_type": "code",
      "execution_count": 42,
      "metadata": {
        "colab": {
          "base_uri": "https://localhost:8080/"
        },
        "id": "gKkp4f4VDJzb",
        "outputId": "7161080d-b243-48a2-bc74-8afe721fcd4f"
      },
      "outputs": [
        {
          "output_type": "stream",
          "name": "stdout",
          "text": [
            "[[ 0.         -0.97853404 -0.00856329 ... -0.08458133  0.\n",
            "  -0.04236192]\n",
            " [ 0.         -0.96273965 -0.00856329 ... -0.08458133  0.\n",
            "  -0.04472603]\n",
            " [ 0.         -0.96273965 -0.00856329 ... -0.08458133  0.\n",
            "  -0.04472603]\n",
            " ...\n",
            " [ 0.         -0.3257939  -0.01687247 ... -0.14903113  0.\n",
            "  -0.07364676]\n",
            " [ 0.         -0.3749659  -0.00941719 ... -0.02338658  0.\n",
            "  -0.05946186]\n",
            " [ 0.         -0.25623238 -0.00941719 ... -0.14078648  0.\n",
            "  -0.06334669]]\n"
          ]
        }
      ],
      "source": [
        "print(shap_values)"
      ]
    },
    {
      "cell_type": "markdown",
      "metadata": {
        "id": "l6LpgXg2wFJb"
      },
      "source": [
        "<u>**Question 3.2**:</u> <br>\n",
        "**Display the summary plot of shap values with `shap.summary_plot(...., plot_type=bar)`.**\n",
        "\n",
        "*Make sure you use `shap_values[0]` in your plot and not every shap value computed*"
      ]
    },
    {
      "cell_type": "code",
      "execution_count": 43,
      "metadata": {
        "colab": {
          "base_uri": "https://localhost:8080/",
          "height": 631
        },
        "id": "vvTGZlmrw2PC",
        "outputId": "fa41d831-82d6-4529-dd65-21eb4cad8fc9"
      },
      "outputs": [
        {
          "output_type": "display_data",
          "data": {
            "text/plain": [
              "<Figure size 800x630 with 1 Axes>"
            ],
            "image/png": "[encoded data removed]"
          },
          "metadata": {}
        }
      ],
      "source": [
        "# Display the summary plot as a bar chart\n",
        "# For binary classification, shap_values is already the matrix for the positive class.\n",
        "# Using shap_values[0] would incorrectly select a single row.\n",
        "shap.summary_plot(shap_values, df_shap, plot_type=\"bar\")"
      ]
    },
    {
      "cell_type": "markdown",
      "metadata": {
        "id": "cBzCZ8mEwFJb"
      },
      "source": [
        "<u>**Question 3.4**:</u> <br>\n",
        "**Use the same shap plot as previously but replace `plot_type=\"bar\"` with `plot_type=\"dot\"`.** <br>\n",
        "**And add the data you used to compute shap_values in `features=...`.**\n",
        "\n",
        "**Explain what you have understood about this plot**:\n",
        "- **Which variables are important in terms of explainability ?**\n",
        "- **How does the values of the important variables affect predictions ?**"
      ]
    },
    {
      "cell_type": "code",
      "execution_count": 44,
      "metadata": {
        "colab": {
          "base_uri": "https://localhost:8080/",
          "height": 631
        },
        "id": "GYaRCaixw31F",
        "outputId": "a3210297-db67-45ce-f74d-42337bbc08f1"
      },
      "outputs": [
        {
          "output_type": "display_data",
          "data": {
            "text/plain": [
              "<Figure size 800x630 with 2 Axes>"
            ],
            "image/png": "[encoded data removed]"
          },
          "metadata": {}
        }
      ],
      "source": [
        "# Display the summary plot as a dot plot\n",
        "# Using shap_values for binary classification is already the matrix for the positive class.\n",
        "shap.summary_plot(shap_values, df_shap, plot_type=\"dot\")"
      ]
    },
    {
      "cell_type": "markdown",
      "metadata": {
        "id": "T4QnxuN5wFJb"
      },
      "source": [
        "## **4. Deep Learning**\n",
        "\n",
        "We will start by importing one of Python's Deep Learning libraries `tensorflow`/`keras`."
      ]
    },
    {
      "cell_type": "code",
      "execution_count": 45,
      "metadata": {
        "id": "lqUGsRQtwFJc"
      },
      "outputs": [],
      "source": [
        "import tensorflow as tf\n",
        "from keras.models import Sequential\n",
        "from keras.layers import Dense, Dropout"
      ]
    },
    {
      "cell_type": "markdown",
      "metadata": {
        "id": "VPm3ak4LwFJc"
      },
      "source": [
        "In the following cells, `dataset` should be the dataset you transformed with data pre-processing (Onehotencoded, LabelEncoder,...). <br>\n",
        "You should run the following cells to prepare the data to train a Deep Learning model."
      ]
    },
    {
      "cell_type": "markdown",
      "metadata": {
        "id": "aY0cj9dfwFJc"
      },
      "source": [
        "<u>**Question 4.1**:</u> <br>\n",
        "**Make a small neural network model using `tensorflow`/`keras`, and print the accuracy**\n",
        "\n",
        "*Note: You can use the following elements to train the neural network* <br>\n",
        "- *`tf.keras.Sequential`*\n",
        "- *`layers.Dense(INTEGER, activation='relu')`*,\n",
        "- *`tf.keras.losses.BinaryCrossentropy`*\n",
        "- *`model.compile(optimizer='adam', ...)`*\n",
        "- *`model.fit`*\n",
        "- *`model.evaluate`* with epoch ~= 10"
      ]
    },
    {
      "cell_type": "code",
      "execution_count": 46,
      "metadata": {
        "colab": {
          "base_uri": "https://localhost:8080/",
          "height": 847
        },
        "id": "VkffQREV3Er6",
        "outputId": "3d44d93b-9711-4b06-f983-b9bb52acb782"
      },
      "outputs": [
        {
          "output_type": "stream",
          "name": "stderr",
          "text": [
            "/usr/local/lib/python3.12/dist-packages/keras/src/layers/core/dense.py:93: UserWarning: Do not pass an `input_shape`/`input_dim` argument to a layer. When using Sequential models, prefer using an `Input(shape)` object as the first layer in the model instead.\n",
            "  super().__init__(activity_regularizer=activity_regularizer, **kwargs)\n"
          ]
        },
        {
          "output_type": "display_data",
          "data": {
            "text/plain": [
              "\u001b[1mModel: \"sequential\"\u001b[0m\n"
            ],
            "text/html": [
              "<pre style=\"white-space:pre;overflow-x:auto;line-height:normal;font-family:Menlo,'DejaVu Sans Mono',consolas,'Courier New',monospace\"><span style=\"font-weight: bold\">Model: \"sequential\"</span>\n",
              "</pre>\n"
            ]
          },
          "metadata": {}
        },
        {
          "output_type": "display_data",
          "data": {
            "text/plain": [
              "┏━━━━━━━━━━━━━━━━━━━━━━━━━━━━━━━━━┳━━━━━━━━━━━━━━━━━━━━━━━━┳━━━━━━━━━━━━━━━┓\n",
              "┃\u001b[1m \u001b[0m\u001b[1mLayer (type)                   \u001b[0m\u001b[1m \u001b[0m┃\u001b[1m \u001b[0m\u001b[1mOutput Shape          \u001b[0m\u001b[1m \u001b[0m┃\u001b[1m \u001b[0m\u001b[1m      Param #\u001b[0m\u001b[1m \u001b[0m┃\n",
              "┡━━━━━━━━━━━━━━━━━━━━━━━━━━━━━━━━━╇━━━━━━━━━━━━━━━━━━━━━━━━╇━━━━━━━━━━━━━━━┩\n",
              "│ dense (\u001b[38;5;33mDense\u001b[0m)                   │ (\u001b[38;5;45mNone\u001b[0m, \u001b[38;5;34m64\u001b[0m)             │           \u001b[38;5;34m832\u001b[0m │\n",
              "├─────────────────────────────────┼────────────────────────┼───────────────┤\n",
              "│ dropout (\u001b[38;5;33mDropout\u001b[0m)               │ (\u001b[38;5;45mNone\u001b[0m, \u001b[38;5;34m64\u001b[0m)             │             \u001b[38;5;34m0\u001b[0m │\n",
              "├─────────────────────────────────┼────────────────────────┼───────────────┤\n",
              "│ dense_1 (\u001b[38;5;33mDense\u001b[0m)                 │ (\u001b[38;5;45mNone\u001b[0m, \u001b[38;5;34m32\u001b[0m)             │         \u001b[38;5;34m2,080\u001b[0m │\n",
              "├─────────────────────────────────┼────────────────────────┼───────────────┤\n",
              "│ dropout_1 (\u001b[38;5;33mDropout\u001b[0m)             │ (\u001b[38;5;45mNone\u001b[0m, \u001b[38;5;34m32\u001b[0m)             │             \u001b[38;5;34m0\u001b[0m │\n",
              "├─────────────────────────────────┼────────────────────────┼───────────────┤\n",
              "│ dense_2 (\u001b[38;5;33mDense\u001b[0m)                 │ (\u001b[38;5;45mNone\u001b[0m, \u001b[38;5;34m1\u001b[0m)              │            \u001b[38;5;34m33\u001b[0m │\n",
              "└─────────────────────────────────┴────────────────────────┴───────────────┘\n"
            ],
            "text/html": [
              "<pre style=\"white-space:pre;overflow-x:auto;line-height:normal;font-family:Menlo,'DejaVu Sans Mono',consolas,'Courier New',monospace\">┏━━━━━━━━━━━━━━━━━━━━━━━━━━━━━━━━━┳━━━━━━━━━━━━━━━━━━━━━━━━┳━━━━━━━━━━━━━━━┓\n",
              "┃<span style=\"font-weight: bold\"> Layer (type)                    </span>┃<span style=\"font-weight: bold\"> Output Shape           </span>┃<span style=\"font-weight: bold\">       Param # </span>┃\n",
              "┡━━━━━━━━━━━━━━━━━━━━━━━━━━━━━━━━━╇━━━━━━━━━━━━━━━━━━━━━━━━╇━━━━━━━━━━━━━━━┩\n",
              "│ dense (<span style=\"color: #0087ff; text-decoration-color: #0087ff\">Dense</span>)                   │ (<span style=\"color: #00d7ff; text-decoration-color: #00d7ff\">None</span>, <span style=\"color: #00af00; text-decoration-color: #00af00\">64</span>)             │           <span style=\"color: #00af00; text-decoration-color: #00af00\">832</span> │\n",
              "├─────────────────────────────────┼────────────────────────┼───────────────┤\n",
              "│ dropout (<span style=\"color: #0087ff; text-decoration-color: #0087ff\">Dropout</span>)               │ (<span style=\"color: #00d7ff; text-decoration-color: #00d7ff\">None</span>, <span style=\"color: #00af00; text-decoration-color: #00af00\">64</span>)             │             <span style=\"color: #00af00; text-decoration-color: #00af00\">0</span> │\n",
              "├─────────────────────────────────┼────────────────────────┼───────────────┤\n",
              "│ dense_1 (<span style=\"color: #0087ff; text-decoration-color: #0087ff\">Dense</span>)                 │ (<span style=\"color: #00d7ff; text-decoration-color: #00d7ff\">None</span>, <span style=\"color: #00af00; text-decoration-color: #00af00\">32</span>)             │         <span style=\"color: #00af00; text-decoration-color: #00af00\">2,080</span> │\n",
              "├─────────────────────────────────┼────────────────────────┼───────────────┤\n",
              "│ dropout_1 (<span style=\"color: #0087ff; text-decoration-color: #0087ff\">Dropout</span>)             │ (<span style=\"color: #00d7ff; text-decoration-color: #00d7ff\">None</span>, <span style=\"color: #00af00; text-decoration-color: #00af00\">32</span>)             │             <span style=\"color: #00af00; text-decoration-color: #00af00\">0</span> │\n",
              "├─────────────────────────────────┼────────────────────────┼───────────────┤\n",
              "│ dense_2 (<span style=\"color: #0087ff; text-decoration-color: #0087ff\">Dense</span>)                 │ (<span style=\"color: #00d7ff; text-decoration-color: #00d7ff\">None</span>, <span style=\"color: #00af00; text-decoration-color: #00af00\">1</span>)              │            <span style=\"color: #00af00; text-decoration-color: #00af00\">33</span> │\n",
              "└─────────────────────────────────┴────────────────────────┴───────────────┘\n",
              "</pre>\n"
            ]
          },
          "metadata": {}
        },
        {
          "output_type": "display_data",
          "data": {
            "text/plain": [
              "\u001b[1m Total params: \u001b[0m\u001b[38;5;34m2,945\u001b[0m (11.50 KB)\n"
            ],
            "text/html": [
              "<pre style=\"white-space:pre;overflow-x:auto;line-height:normal;font-family:Menlo,'DejaVu Sans Mono',consolas,'Courier New',monospace\"><span style=\"font-weight: bold\"> Total params: </span><span style=\"color: #00af00; text-decoration-color: #00af00\">2,945</span> (11.50 KB)\n",
              "</pre>\n"
            ]
          },
          "metadata": {}
        },
        {
          "output_type": "display_data",
          "data": {
            "text/plain": [
              "\u001b[1m Trainable params: \u001b[0m\u001b[38;5;34m2,945\u001b[0m (11.50 KB)\n"
            ],
            "text/html": [
              "<pre style=\"white-space:pre;overflow-x:auto;line-height:normal;font-family:Menlo,'DejaVu Sans Mono',consolas,'Courier New',monospace\"><span style=\"font-weight: bold\"> Trainable params: </span><span style=\"color: #00af00; text-decoration-color: #00af00\">2,945</span> (11.50 KB)\n",
              "</pre>\n"
            ]
          },
          "metadata": {}
        },
        {
          "output_type": "display_data",
          "data": {
            "text/plain": [
              "\u001b[1m Non-trainable params: \u001b[0m\u001b[38;5;34m0\u001b[0m (0.00 B)\n"
            ],
            "text/html": [
              "<pre style=\"white-space:pre;overflow-x:auto;line-height:normal;font-family:Menlo,'DejaVu Sans Mono',consolas,'Courier New',monospace\"><span style=\"font-weight: bold\"> Non-trainable params: </span><span style=\"color: #00af00; text-decoration-color: #00af00\">0</span> (0.00 B)\n",
              "</pre>\n"
            ]
          },
          "metadata": {}
        },
        {
          "output_type": "stream",
          "name": "stdout",
          "text": [
            "\n",
            "Training the neural network model...\n",
            "Epoch 1/10\n",
            "\u001b[1m471/471\u001b[0m \u001b[32m━━━━━━━━━━━━━━━━━━━━\u001b[0m\u001b[37m\u001b[0m \u001b[1m9s\u001b[0m 12ms/step - accuracy: 0.8252 - loss: 0.3959 - val_accuracy: 0.9115 - val_loss: 0.2114\n",
            "Epoch 2/10\n",
            "\u001b[1m471/471\u001b[0m \u001b[32m━━━━━━━━━━━━━━━━━━━━\u001b[0m\u001b[37m\u001b[0m \u001b[1m4s\u001b[0m 7ms/step - accuracy: 0.9132 - loss: 0.2090 - val_accuracy: 0.9129 - val_loss: 0.2072\n",
            "Epoch 3/10\n",
            "\u001b[1m471/471\u001b[0m \u001b[32m━━━━━━━━━━━━━━━━━━━━\u001b[0m\u001b[37m\u001b[0m \u001b[1m5s\u001b[0m 6ms/step - accuracy: 0.9202 - loss: 0.1904 - val_accuracy: 0.9176 - val_loss: 0.2061\n",
            "Epoch 4/10\n",
            "\u001b[1m471/471\u001b[0m \u001b[32m━━━━━━━━━━━━━━━━━━━━\u001b[0m\u001b[37m\u001b[0m \u001b[1m8s\u001b[0m 13ms/step - accuracy: 0.9194 - loss: 0.1937 - val_accuracy: 0.9219 - val_loss: 0.1967\n",
            "Epoch 5/10\n",
            "\u001b[1m471/471\u001b[0m \u001b[32m━━━━━━━━━━━━━━━━━━━━\u001b[0m\u001b[37m\u001b[0m \u001b[1m3s\u001b[0m 6ms/step - accuracy: 0.9226 - loss: 0.1823 - val_accuracy: 0.9214 - val_loss: 0.1967\n",
            "Epoch 6/10\n",
            "\u001b[1m471/471\u001b[0m \u001b[32m━━━━━━━━━━━━━━━━━━━━\u001b[0m\u001b[37m\u001b[0m \u001b[1m3s\u001b[0m 6ms/step - accuracy: 0.9230 - loss: 0.1841 - val_accuracy: 0.9166 - val_loss: 0.2007\n",
            "Epoch 7/10\n",
            "\u001b[1m471/471\u001b[0m \u001b[32m━━━━━━━━━━━━━━━━━━━━\u001b[0m\u001b[37m\u001b[0m \u001b[1m3s\u001b[0m 6ms/step - accuracy: 0.9245 - loss: 0.1781 - val_accuracy: 0.9195 - val_loss: 0.1924\n",
            "Epoch 8/10\n",
            "\u001b[1m471/471\u001b[0m \u001b[32m━━━━━━━━━━━━━━━━━━━━\u001b[0m\u001b[37m\u001b[0m \u001b[1m4s\u001b[0m 8ms/step - accuracy: 0.9253 - loss: 0.1804 - val_accuracy: 0.9171 - val_loss: 0.1996\n",
            "Epoch 9/10\n",
            "\u001b[1m471/471\u001b[0m \u001b[32m━━━━━━━━━━━━━━━━━━━━\u001b[0m\u001b[37m\u001b[0m \u001b[1m4s\u001b[0m 6ms/step - accuracy: 0.9203 - loss: 0.1835 - val_accuracy: 0.9216 - val_loss: 0.1893\n",
            "Epoch 10/10\n",
            "\u001b[1m471/471\u001b[0m \u001b[32m━━━━━━━━━━━━━━━━━━━━\u001b[0m\u001b[37m\u001b[0m \u001b[1m3s\u001b[0m 6ms/step - accuracy: 0.9212 - loss: 0.1798 - val_accuracy: 0.9187 - val_loss: 0.1936\n",
            "\n",
            "Neural network model training finished.\n",
            "\n",
            "Evaluating the model on the test set...\n",
            "\n",
            "Test Accuracy: 0.9684\n"
          ]
        }
      ],
      "source": [
        "# Define the model\n",
        "model = Sequential([\n",
        "    Dense(64, activation='relu', input_shape=(X_train_scaled.shape[1],)),\n",
        "    Dropout(0.2), # to prevent overfitting\n",
        "    Dense(32, activation='relu'),\n",
        "    Dropout(0.2),\n",
        "    # Output layer for binary classification (sigmoid activation)\n",
        "    Dense(1, activation='sigmoid')\n",
        "])\n",
        "\n",
        "# Compile the model\n",
        "model.compile(optimizer='adam',\n",
        "              loss=tf.keras.losses.BinaryCrossentropy(),\n",
        "              metrics=['accuracy'])\n",
        "\n",
        "model.summary()\n",
        "\n",
        "print(\"\\nTraining the neural network model...\")\n",
        "history = model.fit(X_train_scaled, y_train, epochs=10, batch_size=32, validation_split=0.2)\n",
        "\n",
        "print(\"\\nNeural network model training finished.\")\n",
        "\n",
        "print(\"\\nEvaluating the model on the test set...\")\n",
        "loss, accuracy = model.evaluate(X_test_scaled, y_test, verbose=0)\n",
        "\n",
        "print(f\"\\nTest Accuracy: {accuracy:.4f}\")"
      ]
    }
  ],
  "metadata": {
    "colab": {
      "provenance": [],
      "include_colab_link": true
    },
    "kaggle": {
      "accelerator": "none",
      "dataSources": [
        {
          "datasetId": 8105818,
          "sourceId": 12818414,
          "sourceType": "datasetVersion"
        }
      ],
      "dockerImageVersionId": 31089,
      "isGpuEnabled": false,
      "isInternetEnabled": true,
      "language": "python",
      "sourceType": "notebook"
    },
    "kernelspec": {
      "display_name": "Python 3",
      "language": "python",
      "name": "python3"
    },
    "language_info": {
      "codemirror_mode": {
        "name": "ipython",
        "version": 3
      },
      "file_extension": ".py",
      "mimetype": "text/x-python",
      "name": "python",
      "nbconvert_exporter": "python",
      "pygments_lexer": "ipython3",
      "version": "3.11.13"
    }
  },
  "nbformat": 4,
  "nbformat_minor": 0
}